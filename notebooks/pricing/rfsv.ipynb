{
 "cells": [
  {
   "cell_type": "code",
   "execution_count": 1,
   "metadata": {},
   "outputs": [],
   "source": [
    "%load_ext autoreload\n",
    "%autoreload 2\n",
    "\n",
    "import os\n",
    "import sys\n",
    "import numpy as np\n",
    "import matplotlib.pyplot as plt\n",
    "import copy\n",
    "\n",
    "module_path = os.path.abspath(os.path.join('../..'))\n",
    "if module_path not in sys.path:\n",
    "    sys.path.append(module_path)"
   ]
  },
  {
   "cell_type": "code",
   "execution_count": 12,
   "metadata": {},
   "outputs": [
    {
     "name": "stdout",
     "output_type": "stream",
     "text": [
      "[45.55119518 41.7120628  38.03268017 34.52948049 31.22359433 28.11479526\n",
      " 25.19978573 22.48880458 19.9863539  17.69041067 15.58350435 13.67495704\n",
      " 11.95995902]\n",
      "[44.95945746 41.1230323  37.44717431 33.95888401 30.66888647 27.58524839\n",
      " 24.6948373  22.01652243 19.54510302 17.28346439 15.22299564 13.35502922\n",
      " 11.66399943]\n",
      "[44.7923668  40.94390154 37.26572546 33.77988434 30.48994029 27.39285686\n",
      " 24.49934654 21.80802532 19.33126665 17.06422587 14.9982574  13.13168723\n",
      " 11.45050718]\n",
      "[44.99822895 41.17919061 37.52991615 34.05576646 30.77333993 27.68516986\n",
      " 24.78972388 22.0871687  19.59348826 17.30950494 15.23165451 13.346552\n",
      " 11.65940233]\n",
      "[45.72344717 41.89672667 38.22774948 34.72788066 31.40280901 28.27082208\n",
      " 25.34066074 22.61833375 20.11275267 17.8197288  15.73807038 13.85485031\n",
      " 12.14624474]\n",
      "[45.4753373  41.62297692 37.93754677 34.42866901 31.10338213 27.96746302\n",
      " 25.02871855 22.29287691 19.77153374 17.46568351 15.35678515 13.43554236\n",
      " 11.69381581]\n",
      "[45.55070405 41.67929381 37.97423855 34.45125789 31.11955171 27.98588582\n",
      " 25.05201266 22.3253409  19.81897111 17.52743127 15.42740613 13.52232007\n",
      " 11.79824612]\n",
      "[45.12230673 41.26977258 37.57302678 34.06088164 30.74463959 27.63685031\n",
      " 24.72728033 22.01664693 19.5168122  17.21936474 15.12737348 13.22714497\n",
      " 11.51329912]\n",
      "[45.8149743  41.94402309 38.23394493 34.70538312 31.36503678 28.22062956\n",
      " 25.27853614 22.54256348 20.01723619 17.7054783  15.58659618 13.6587308\n",
      " 11.91623586]\n",
      "[45.18959573 41.34501505 37.68272606 34.20427463 30.91303491 27.81654968\n",
      " 24.92789223 22.23547201 19.74731175 17.46867953 15.39325408 13.51375101\n",
      " 11.80648945]\n",
      "Finsihed  100.00%\n"
     ]
    }
   ],
   "source": [
    "from pricing.rfsv import RFSV\n",
    "from pricing.price_engine import MontelCarloOptionPricingEngine\n",
    "\n",
    "S = 300\n",
    "r = 0.05\n",
    "T = 1\n",
    "params = {\n",
    "    'mu': r,\n",
    "    'h2': 0.1,\n",
    "    'corr': 0.02,\n",
    "\n",
    "    'x0': np.log(0.15),\n",
    "    'x_mr': 2,\n",
    "    'x_mu': np.log(0.15),\n",
    "    'x_vol': 0.1\n",
    "}\n",
    "\n",
    "rfsv = RFSV()\n",
    "pricer = MontelCarloOptionPricingEngine(rfsv)\n",
    "\n",
    "implied_vols = pricer.european_call_find_implied_vols(\n",
    "    S, np.linspace(270, 330, 13), r=r,\n",
    "    T=T, size=4096, batch_sim_num=10000, batch_num=10,\n",
    "    **params\n",
    ")"
   ]
  },
  {
   "cell_type": "code",
   "execution_count": 14,
   "metadata": {},
   "outputs": [
    {
     "data": {
      "image/png": "[encoded data removed]",
      "text/plain": [
       "<Figure size 432x288 with 1 Axes>"
      ]
     },
     "metadata": {
      "needs_background": "light"
     },
     "output_type": "display_data"
    }
   ],
   "source": [
    "plt.plot(np.log(np.linspace(270, 330, 13) / S), implied_vols)\n",
    "plt.show()"
   ]
  },
  {
   "cell_type": "markdown",
   "metadata": {},
   "source": [
    "Calibration"
   ]
  },
  {
   "cell_type": "code",
   "execution_count": 45,
   "metadata": {},
   "outputs": [
    {
     "data": {
      "text/html": [
       "<div>\n",
       "<style scoped>\n",
       "    .dataframe tbody tr th:only-of-type {\n",
       "        vertical-align: middle;\n",
       "    }\n",
       "\n",
       "    .dataframe tbody tr th {\n",
       "        vertical-align: top;\n",
       "    }\n",
       "\n",
       "    .dataframe thead th {\n",
       "        text-align: right;\n",
       "    }\n",
       "</style>\n",
       "<table border=\"1\" class=\"dataframe\">\n",
       "  <thead>\n",
       "    <tr style=\"text-align: right;\">\n",
       "      <th></th>\n",
       "      <th>Symbol</th>\n",
       "      <th>rv5_ss</th>\n",
       "    </tr>\n",
       "  </thead>\n",
       "  <tbody>\n",
       "    <tr>\n",
       "      <th>2017-01-03</th>\n",
       "      <td>.SPX</td>\n",
       "      <td>0.000035</td>\n",
       "    </tr>\n",
       "    <tr>\n",
       "      <th>2017-01-04</th>\n",
       "      <td>.SPX</td>\n",
       "      <td>0.000013</td>\n",
       "    </tr>\n",
       "    <tr>\n",
       "      <th>2017-01-05</th>\n",
       "      <td>.SPX</td>\n",
       "      <td>0.000012</td>\n",
       "    </tr>\n",
       "    <tr>\n",
       "      <th>2017-01-06</th>\n",
       "      <td>.SPX</td>\n",
       "      <td>0.000015</td>\n",
       "    </tr>\n",
       "    <tr>\n",
       "      <th>2017-01-09</th>\n",
       "      <td>.SPX</td>\n",
       "      <td>0.000008</td>\n",
       "    </tr>\n",
       "    <tr>\n",
       "      <th>...</th>\n",
       "      <td>...</td>\n",
       "      <td>...</td>\n",
       "    </tr>\n",
       "    <tr>\n",
       "      <th>2022-06-08</th>\n",
       "      <td>.SPX</td>\n",
       "      <td>0.000107</td>\n",
       "    </tr>\n",
       "    <tr>\n",
       "      <th>2022-06-09</th>\n",
       "      <td>.SPX</td>\n",
       "      <td>0.000134</td>\n",
       "    </tr>\n",
       "    <tr>\n",
       "      <th>2022-06-10</th>\n",
       "      <td>.SPX</td>\n",
       "      <td>0.000262</td>\n",
       "    </tr>\n",
       "    <tr>\n",
       "      <th>2022-06-13</th>\n",
       "      <td>.SPX</td>\n",
       "      <td>0.000230</td>\n",
       "    </tr>\n",
       "    <tr>\n",
       "      <th>2022-06-14</th>\n",
       "      <td>.SPX</td>\n",
       "      <td>0.000232</td>\n",
       "    </tr>\n",
       "  </tbody>\n",
       "</table>\n",
       "<p>1360 rows × 2 columns</p>\n",
       "</div>"
      ],
      "text/plain": [
       "           Symbol    rv5_ss\n",
       "2017-01-03   .SPX  0.000035\n",
       "2017-01-04   .SPX  0.000013\n",
       "2017-01-05   .SPX  0.000012\n",
       "2017-01-06   .SPX  0.000015\n",
       "2017-01-09   .SPX  0.000008\n",
       "...           ...       ...\n",
       "2022-06-08   .SPX  0.000107\n",
       "2022-06-09   .SPX  0.000134\n",
       "2022-06-10   .SPX  0.000262\n",
       "2022-06-13   .SPX  0.000230\n",
       "2022-06-14   .SPX  0.000232\n",
       "\n",
       "[1360 rows x 2 columns]"
      ]
     },
     "execution_count": 45,
     "metadata": {},
     "output_type": "execute_result"
    }
   ],
   "source": [
    "import pandas as pd\n",
    "import datetime as dt\n",
    "\n",
    "df = pd.read_csv('../../../data/oxfordmanrealizedvolatilityindices.csv', \n",
    "    index_col=0, usecols=[0,1,4])\n",
    "df = df[df['Symbol'] == '.SPX']\n",
    "df.index = [dt.datetime.fromisoformat(str(date)).date() for date in df.index.values]\n",
    "df[df.index >= dt.date(2017,1,1)]"
   ]
  },
  {
   "cell_type": "code",
   "execution_count": 47,
   "metadata": {},
   "outputs": [
    {
     "data": {
      "text/plain": [
       "0.143507819888922"
      ]
     },
     "execution_count": 47,
     "metadata": {},
     "output_type": "execute_result"
    }
   ],
   "source": [
    "def dlsig2(sig, x, pr=False):\n",
    "    if pr:\n",
    "        a= np.array([(sig-sig.shift(lag)).dropna() for lag in x])\n",
    "        a=a ** 2\n",
    "    return [np.mean((sig-sig.shift(lag)).dropna() ** 2) for lag in x]\n",
    "\n",
    "\n",
    "h_est = list()\n",
    "\n",
    "sig = df['rv5_ss']\n",
    "sig = np.log(np.sqrt(sig))\n",
    "x = np.arange(1, 100)\n",
    "model = np.polyfit(np.log(x), np.log(dlsig2(sig, x)), 1)\n",
    "h_est = model[0]/2.\n",
    "h_est"
   ]
  },
  {
   "cell_type": "code",
   "execution_count": 57,
   "metadata": {},
   "outputs": [
    {
     "data": {
      "image/png": "[encoded data removed]",
      "text/plain": [
       "<Figure size 432x288 with 1 Axes>"
      ]
     },
     "metadata": {
      "needs_background": "light"
     },
     "output_type": "display_data"
    }
   ],
   "source": [
    "import yfinance as yf\n",
    "from datetime import date, datetime, timedelta\n",
    "from pricing.price_engine import find_implied_vol_curve\n",
    "\n",
    "spx = yf.Ticker(\"^SPX\")\n",
    "\n",
    "expiry_date = date(2023, 6, 16)\n",
    "start_date = date(2022, 6, 15)\n",
    "\n",
    "spx_option_data = spx.option_chain(expiry_date.strftime('%Y-%m-%d')).calls\n",
    "spx_option_data = spx_option_data[\n",
    "    (spx_option_data['lastTradeDate'] >= start_date.strftime('%Y-%m-%d')) & \n",
    "    (spx_option_data['strike'] > 3000) &\n",
    "    (spx_option_data['strike'] < 5500)\n",
    "]\n",
    "Ks = spx_option_data['strike'].to_numpy()\n",
    "real_bids = spx_option_data['bid'].to_numpy()\n",
    "real_asks = spx_option_data['ask'].to_numpy()\n",
    "\n",
    "r = 0.04791\n",
    "S0 = spx.history()['Close'][0]\n",
    "T = (expiry_date - start_date) / timedelta(days=365)\n",
    "\n",
    "log_Ks = np.log(Ks / S0)\n",
    "real_bids_implied_vol = find_implied_vol_curve(S0,T,r, Ks, real_bids)\n",
    "real_asks_implied_vol = find_implied_vol_curve(S0,T,r, Ks, real_asks)\n",
    "\n",
    "plt.scatter(log_Ks, real_bids_implied_vol, color='blue')\n",
    "plt.scatter(log_Ks, real_asks_implied_vol, color='red')\n",
    "plt.show()"
   ]
  },
  {
   "cell_type": "code",
   "execution_count": 55,
   "metadata": {},
   "outputs": [
    {
     "data": {
      "text/plain": [
       "0.24197436004346493"
      ]
     },
     "execution_count": 55,
     "metadata": {},
     "output_type": "execute_result"
    }
   ],
   "source": [
    "v_0 = np.sqrt(df.iloc[-1]['rv5_ss'] * 252)\n",
    "v_0"
   ]
  },
  {
   "cell_type": "code",
   "execution_count": 63,
   "metadata": {},
   "outputs": [
    {
     "data": {
      "text/plain": [
       "-1.4189235086721892"
      ]
     },
     "execution_count": 63,
     "metadata": {},
     "output_type": "execute_result"
    }
   ],
   "source": [
    "np.log(v_0)"
   ]
  },
  {
   "cell_type": "code",
   "execution_count": 76,
   "metadata": {},
   "outputs": [
    {
     "name": "stdout",
     "output_type": "stream",
     "text": [
      "Iteration No: 1 started. Evaluating function at provided point.\n",
      "Finsihed  100.00%\n",
      "Iteration No: 1 ended. Evaluation done at provided point.\n",
      "Time taken: 80.9429\n",
      "Function value obtained: 0.0060\n",
      "Current minimum: 0.0060\n",
      "Iteration No: 2 started. Evaluating function at random point.\n",
      "Finsihed  100.00%\n",
      "Iteration No: 2 ended. Evaluation done at random point.\n",
      "Time taken: 80.7725\n",
      "Function value obtained: 99649.7278\n",
      "Current minimum: 0.0060\n",
      "Iteration No: 3 started. Evaluating function at random point.\n",
      "Finsihed  100.00%\n",
      "Iteration No: 3 ended. Evaluation done at random point.\n",
      "Time taken: 80.3226\n",
      "Function value obtained: 159438.3338\n",
      "Current minimum: 0.0060\n",
      "Iteration No: 4 started. Evaluating function at random point.\n",
      "Finsihed  100.00%\n",
      "Iteration No: 4 ended. Evaluation done at random point.\n",
      "Time taken: 80.3317\n",
      "Function value obtained: 139508.2673\n",
      "Current minimum: 0.0060\n",
      "Iteration No: 5 started. Evaluating function at random point.\n",
      "Finsihed  100.00%\n",
      "Iteration No: 5 ended. Evaluation done at random point.\n",
      "Time taken: 80.1735\n",
      "Function value obtained: 0.1965\n",
      "Current minimum: 0.0060\n",
      "Iteration No: 6 started. Evaluating function at random point.\n",
      "Finsihed  100.00%\n",
      "Iteration No: 6 ended. Evaluation done at random point.\n",
      "Time taken: 80.1160\n",
      "Function value obtained: 0.7516\n",
      "Current minimum: 0.0060\n",
      "Iteration No: 7 started. Evaluating function at random point.\n",
      "Finsihed  100.00%\n",
      "Iteration No: 7 ended. Evaluation done at random point.\n",
      "Time taken: 80.1917\n",
      "Function value obtained: 0.0918\n",
      "Current minimum: 0.0060\n",
      "Iteration No: 8 started. Evaluating function at random point.\n",
      "Finsihed  100.00%\n",
      "Iteration No: 8 ended. Evaluation done at random point.\n",
      "Time taken: 80.2746\n",
      "Function value obtained: 19931.0887\n",
      "Current minimum: 0.0060\n",
      "Iteration No: 9 started. Evaluating function at random point.\n",
      "Finsihed  100.00%\n",
      "Iteration No: 9 ended. Evaluation done at random point.\n",
      "Time taken: 80.0599\n",
      "Function value obtained: 139508.4120\n",
      "Current minimum: 0.0060\n",
      "Iteration No: 10 started. Evaluating function at random point.\n",
      "Finsihed  100.00%\n",
      "Iteration No: 10 ended. Evaluation done at random point.\n",
      "Time taken: 81.2461\n",
      "Function value obtained: 0.5911\n",
      "Current minimum: 0.0060\n",
      "Iteration No: 11 started. Evaluating function at random point.\n",
      "Finsihed  100.00%\n",
      "Iteration No: 11 ended. Evaluation done at random point.\n",
      "Time taken: 83.5893\n",
      "Function value obtained: 0.0672\n",
      "Current minimum: 0.0060\n",
      "Iteration No: 12 started. Evaluating function at random point.\n",
      "Finsihed  100.00%\n",
      "Iteration No: 12 ended. Evaluation done at random point.\n",
      "Time taken: 81.2458\n",
      "Function value obtained: 0.7149\n",
      "Current minimum: 0.0060\n",
      "Iteration No: 13 started. Searching for the next optimal point.\n",
      "Finsihed  100.00%\n",
      "Iteration No: 13 ended. Search finished for the next optimal point.\n",
      "Time taken: 80.9929\n",
      "Function value obtained: 0.7697\n",
      "Current minimum: 0.0060\n",
      "Iteration No: 14 started. Searching for the next optimal point.\n",
      "Finsihed  100.00%\n",
      "Iteration No: 14 ended. Search finished for the next optimal point.\n",
      "Time taken: 80.2634\n",
      "Function value obtained: 19931.0085\n",
      "Current minimum: 0.0060\n",
      "Iteration No: 15 started. Searching for the next optimal point.\n",
      "Finsihed  100.00%\n",
      "Iteration No: 15 ended. Search finished for the next optimal point.\n",
      "Time taken: 81.0316\n",
      "Function value obtained: 0.1741\n",
      "Current minimum: 0.0060\n",
      "Iteration No: 16 started. Searching for the next optimal point.\n",
      "Finsihed  100.00%\n",
      "Iteration No: 16 ended. Search finished for the next optimal point.\n",
      "Time taken: 80.8187\n",
      "Function value obtained: 1.2422\n",
      "Current minimum: 0.0060\n",
      "Iteration No: 17 started. Searching for the next optimal point.\n",
      "Finsihed  100.00%\n",
      "Iteration No: 17 ended. Search finished for the next optimal point.\n",
      "Time taken: 81.4932\n",
      "Function value obtained: 0.7602\n",
      "Current minimum: 0.0060\n",
      "Iteration No: 18 started. Searching for the next optimal point.\n",
      "Finsihed  100.00%\n",
      "Iteration No: 18 ended. Search finished for the next optimal point.\n",
      "Time taken: 86.3758\n",
      "Function value obtained: 0.0079\n",
      "Current minimum: 0.0060\n",
      "Iteration No: 19 started. Searching for the next optimal point.\n",
      "Finsihed  100.00%\n",
      "Iteration No: 19 ended. Search finished for the next optimal point.\n",
      "Time taken: 87.4581\n",
      "Function value obtained: 0.7952\n",
      "Current minimum: 0.0060\n",
      "Iteration No: 20 started. Searching for the next optimal point.\n",
      "Finsihed  100.00%\n",
      "Iteration No: 20 ended. Search finished for the next optimal point.\n",
      "Time taken: 87.0193\n",
      "Function value obtained: 0.1868\n",
      "Current minimum: 0.0060\n",
      "Iteration No: 21 started. Searching for the next optimal point.\n",
      "Finsihed  100.00%\n",
      "Iteration No: 21 ended. Search finished for the next optimal point.\n",
      "Time taken: 87.9958\n",
      "Function value obtained: 0.0891\n",
      "Current minimum: 0.0060\n",
      "Iteration No: 22 started. Searching for the next optimal point.\n",
      "Finsihed  100.00%\n",
      "Iteration No: 22 ended. Search finished for the next optimal point.\n",
      "Time taken: 87.3006\n",
      "Function value obtained: 0.7893\n",
      "Current minimum: 0.0060\n",
      "Iteration No: 23 started. Searching for the next optimal point.\n",
      "Finsihed  100.00%\n",
      "Iteration No: 23 ended. Search finished for the next optimal point.\n",
      "Time taken: 86.0379\n",
      "Function value obtained: 0.0075\n",
      "Current minimum: 0.0060\n",
      "Iteration No: 24 started. Searching for the next optimal point.\n",
      "Finsihed  100.00%\n",
      "Iteration No: 24 ended. Search finished for the next optimal point.\n",
      "Time taken: 84.9957\n",
      "Function value obtained: 0.1878\n",
      "Current minimum: 0.0060\n",
      "Iteration No: 25 started. Searching for the next optimal point.\n",
      "Finsihed  100.00%\n",
      "Iteration No: 25 ended. Search finished for the next optimal point.\n",
      "Time taken: 85.4723\n",
      "Function value obtained: 0.1364\n",
      "Current minimum: 0.0060\n",
      "Iteration No: 26 started. Searching for the next optimal point.\n",
      "Finsihed  100.00%\n",
      "Iteration No: 26 ended. Search finished for the next optimal point.\n",
      "Time taken: 85.9639\n",
      "Function value obtained: 0.7807\n",
      "Current minimum: 0.0060\n",
      "Iteration No: 27 started. Searching for the next optimal point.\n",
      "Finsihed  100.00%\n",
      "Iteration No: 27 ended. Search finished for the next optimal point.\n",
      "Time taken: 85.2801\n",
      "Function value obtained: 1.2872\n",
      "Current minimum: 0.0060\n",
      "Iteration No: 28 started. Searching for the next optimal point.\n",
      "Finsihed  100.00%\n",
      "Iteration No: 28 ended. Search finished for the next optimal point.\n",
      "Time taken: 85.3845\n",
      "Function value obtained: 0.1980\n",
      "Current minimum: 0.0060\n",
      "Iteration No: 29 started. Searching for the next optimal point.\n",
      "Finsihed  100.00%\n",
      "Iteration No: 29 ended. Search finished for the next optimal point.\n",
      "Time taken: 84.6906\n",
      "Function value obtained: 0.2024\n",
      "Current minimum: 0.0060\n",
      "Iteration No: 30 started. Searching for the next optimal point.\n",
      "Finsihed  100.00%\n",
      "Iteration No: 30 ended. Search finished for the next optimal point.\n",
      "Time taken: 85.0546\n",
      "Function value obtained: 0.2012\n",
      "Current minimum: 0.0060\n",
      "Iteration No: 31 started. Searching for the next optimal point.\n",
      "Finsihed  100.00%\n",
      "Iteration No: 31 ended. Search finished for the next optimal point.\n",
      "Time taken: 84.8543\n",
      "Function value obtained: 1.3897\n",
      "Current minimum: 0.0060\n",
      "Iteration No: 32 started. Searching for the next optimal point.\n",
      "Finsihed  100.00%\n",
      "Iteration No: 32 ended. Search finished for the next optimal point.\n",
      "Time taken: 85.8121\n",
      "Function value obtained: 0.8456\n",
      "Current minimum: 0.0060\n",
      "Iteration No: 33 started. Searching for the next optimal point.\n",
      "Finsihed  100.00%\n",
      "Iteration No: 33 ended. Search finished for the next optimal point.\n",
      "Time taken: 85.8021\n",
      "Function value obtained: 0.1425\n",
      "Current minimum: 0.0060\n",
      "Iteration No: 34 started. Searching for the next optimal point.\n",
      "Finsihed  100.00%\n",
      "Iteration No: 34 ended. Search finished for the next optimal point.\n",
      "Time taken: 80.5208\n",
      "Function value obtained: 0.1725\n",
      "Current minimum: 0.0060\n",
      "Iteration No: 35 started. Searching for the next optimal point.\n",
      "Finsihed  100.00%\n",
      "Iteration No: 35 ended. Search finished for the next optimal point.\n",
      "Time taken: 80.5692\n",
      "Function value obtained: 0.1938\n",
      "Current minimum: 0.0060\n",
      "Iteration No: 36 started. Searching for the next optimal point.\n",
      "Finsihed  100.00%\n",
      "Iteration No: 36 ended. Search finished for the next optimal point.\n",
      "Time taken: 80.8126\n",
      "Function value obtained: 19931.0421\n",
      "Current minimum: 0.0060\n",
      "Iteration No: 37 started. Searching for the next optimal point.\n",
      "Finsihed  100.00%\n",
      "Iteration No: 37 ended. Search finished for the next optimal point.\n",
      "Time taken: 79.4266\n",
      "Function value obtained: 0.0843\n",
      "Current minimum: 0.0060\n",
      "Iteration No: 38 started. Searching for the next optimal point.\n",
      "Finsihed  100.00%\n",
      "Iteration No: 38 ended. Search finished for the next optimal point.\n",
      "Time taken: 80.5898\n",
      "Function value obtained: 0.2656\n",
      "Current minimum: 0.0060\n",
      "Iteration No: 39 started. Searching for the next optimal point.\n",
      "Finsihed  100.00%\n",
      "Iteration No: 39 ended. Search finished for the next optimal point.\n",
      "Time taken: 80.9415\n",
      "Function value obtained: 0.1174\n",
      "Current minimum: 0.0060\n",
      "Iteration No: 40 started. Searching for the next optimal point.\n",
      "Finsihed  100.00%\n",
      "Iteration No: 40 ended. Search finished for the next optimal point.\n",
      "Time taken: 80.3310\n",
      "Function value obtained: 19931.0340\n",
      "Current minimum: 0.0060\n",
      "Iteration No: 41 started. Searching for the next optimal point.\n",
      "Finsihed  100.00%\n",
      "Iteration No: 41 ended. Search finished for the next optimal point.\n",
      "Time taken: 80.4013\n",
      "Function value obtained: 19931.0814\n",
      "Current minimum: 0.0060\n",
      "Iteration No: 42 started. Searching for the next optimal point.\n",
      "Finsihed  100.00%\n",
      "Iteration No: 42 ended. Search finished for the next optimal point.\n",
      "Time taken: 81.0703\n",
      "Function value obtained: 0.0396\n",
      "Current minimum: 0.0060\n",
      "Iteration No: 43 started. Searching for the next optimal point.\n",
      "Finsihed  100.00%\n",
      "Iteration No: 43 ended. Search finished for the next optimal point.\n",
      "Time taken: 80.7779\n",
      "Function value obtained: 0.0187\n",
      "Current minimum: 0.0060\n",
      "Iteration No: 44 started. Searching for the next optimal point.\n",
      "Finsihed  100.00%\n",
      "Iteration No: 44 ended. Search finished for the next optimal point.\n",
      "Time taken: 80.9139\n",
      "Function value obtained: 0.0387\n",
      "Current minimum: 0.0060\n",
      "Iteration No: 45 started. Searching for the next optimal point.\n",
      "Finsihed  100.00%\n",
      "Iteration No: 45 ended. Search finished for the next optimal point.\n",
      "Time taken: 80.6378\n",
      "Function value obtained: 1.8060\n",
      "Current minimum: 0.0060\n",
      "Iteration No: 46 started. Searching for the next optimal point.\n",
      "Finsihed  100.00%\n",
      "Iteration No: 46 ended. Search finished for the next optimal point.\n",
      "Time taken: 80.8884\n",
      "Function value obtained: 0.0487\n",
      "Current minimum: 0.0060\n",
      "Iteration No: 47 started. Searching for the next optimal point.\n",
      "Finsihed  100.00%\n",
      "Iteration No: 47 ended. Search finished for the next optimal point.\n",
      "Time taken: 80.8088\n",
      "Function value obtained: 0.0505\n",
      "Current minimum: 0.0060\n",
      "Iteration No: 48 started. Searching for the next optimal point.\n",
      "Finsihed  100.00%\n",
      "Iteration No: 48 ended. Search finished for the next optimal point.\n",
      "Time taken: 81.1143\n",
      "Function value obtained: 0.0466\n",
      "Current minimum: 0.0060\n",
      "Iteration No: 49 started. Searching for the next optimal point.\n",
      "Finsihed  100.00%\n",
      "Iteration No: 49 ended. Search finished for the next optimal point.\n",
      "Time taken: 80.5655\n",
      "Function value obtained: 0.0489\n",
      "Current minimum: 0.0060\n",
      "Iteration No: 50 started. Searching for the next optimal point.\n",
      "Finsihed  100.00%\n",
      "Iteration No: 50 ended. Search finished for the next optimal point.\n",
      "Time taken: 81.0109\n",
      "Function value obtained: 0.0440\n",
      "Current minimum: 0.0060\n",
      "Iteration No: 51 started. Searching for the next optimal point.\n",
      "Finsihed  100.00%\n",
      "Iteration No: 51 ended. Search finished for the next optimal point.\n",
      "Time taken: 81.3757\n",
      "Function value obtained: 0.0486\n",
      "Current minimum: 0.0060\n",
      "Iteration No: 52 started. Searching for the next optimal point.\n",
      "Finsihed  100.00%\n",
      "Iteration No: 52 ended. Search finished for the next optimal point.\n",
      "Time taken: 81.2889\n",
      "Function value obtained: 0.0485\n",
      "Current minimum: 0.0060\n",
      "Iteration No: 53 started. Searching for the next optimal point.\n",
      "Finsihed  100.00%\n",
      "Iteration No: 53 ended. Search finished for the next optimal point.\n",
      "Time taken: 81.0678\n",
      "Function value obtained: 0.0523\n",
      "Current minimum: 0.0060\n",
      "Iteration No: 54 started. Searching for the next optimal point.\n",
      "Finsihed  100.00%\n",
      "Iteration No: 54 ended. Search finished for the next optimal point.\n",
      "Time taken: 81.0566\n",
      "Function value obtained: 0.2319\n",
      "Current minimum: 0.0060\n",
      "Iteration No: 55 started. Searching for the next optimal point.\n",
      "Finsihed  100.00%\n",
      "Iteration No: 55 ended. Search finished for the next optimal point.\n",
      "Time taken: 81.4841\n",
      "Function value obtained: 0.0530\n",
      "Current minimum: 0.0060\n",
      "Iteration No: 56 started. Searching for the next optimal point.\n",
      "Finsihed  100.00%\n",
      "Iteration No: 56 ended. Search finished for the next optimal point.\n",
      "Time taken: 80.3776\n",
      "Function value obtained: 1.5692\n",
      "Current minimum: 0.0060\n",
      "Iteration No: 57 started. Searching for the next optimal point.\n",
      "Finsihed  100.00%\n",
      "Iteration No: 57 ended. Search finished for the next optimal point.\n",
      "Time taken: 80.6779\n",
      "Function value obtained: 0.0466\n",
      "Current minimum: 0.0060\n",
      "Iteration No: 58 started. Searching for the next optimal point.\n",
      "Finsihed  100.00%\n",
      "Iteration No: 58 ended. Search finished for the next optimal point.\n",
      "Time taken: 81.1606\n",
      "Function value obtained: 0.0514\n",
      "Current minimum: 0.0060\n",
      "Iteration No: 59 started. Searching for the next optimal point.\n",
      "Finsihed  100.00%\n",
      "Iteration No: 59 ended. Search finished for the next optimal point.\n",
      "Time taken: 80.9972\n",
      "Function value obtained: 0.0571\n",
      "Current minimum: 0.0060\n",
      "Iteration No: 60 started. Searching for the next optimal point.\n",
      "Finsihed  100.00%\n",
      "Iteration No: 60 ended. Search finished for the next optimal point.\n",
      "Time taken: 81.2736\n",
      "Function value obtained: 0.0570\n",
      "Current minimum: 0.0060\n",
      "Iteration No: 61 started. Searching for the next optimal point.\n",
      "Finsihed  100.00%\n",
      "Iteration No: 61 ended. Search finished for the next optimal point.\n",
      "Time taken: 81.4757\n",
      "Function value obtained: 19931.0745\n",
      "Current minimum: 0.0060\n",
      "Iteration No: 62 started. Searching for the next optimal point.\n",
      "Finsihed  100.00%\n",
      "Iteration No: 62 ended. Search finished for the next optimal point.\n",
      "Time taken: 81.4780\n",
      "Function value obtained: 0.0566\n",
      "Current minimum: 0.0060\n",
      "Iteration No: 63 started. Searching for the next optimal point.\n",
      "Finsihed  100.00%\n",
      "Iteration No: 63 ended. Search finished for the next optimal point.\n",
      "Time taken: 80.6731\n",
      "Function value obtained: 0.0614\n",
      "Current minimum: 0.0060\n",
      "Iteration No: 64 started. Searching for the next optimal point.\n",
      "Finsihed  100.00%\n",
      "Iteration No: 64 ended. Search finished for the next optimal point.\n",
      "Time taken: 80.6321\n",
      "Function value obtained: 0.0589\n",
      "Current minimum: 0.0060\n",
      "Iteration No: 65 started. Searching for the next optimal point.\n",
      "Finsihed  100.00%\n",
      "Iteration No: 65 ended. Search finished for the next optimal point.\n",
      "Time taken: 80.2665\n",
      "Function value obtained: 0.0660\n",
      "Current minimum: 0.0060\n",
      "Iteration No: 66 started. Searching for the next optimal point.\n",
      "Finsihed  100.00%\n",
      "Iteration No: 66 ended. Search finished for the next optimal point.\n",
      "Time taken: 80.4657\n",
      "Function value obtained: 0.0669\n",
      "Current minimum: 0.0060\n",
      "Iteration No: 67 started. Searching for the next optimal point.\n",
      "Finsihed  100.00%\n",
      "Iteration No: 67 ended. Search finished for the next optimal point.\n",
      "Time taken: 80.8371\n",
      "Function value obtained: 0.0662\n",
      "Current minimum: 0.0060\n",
      "Iteration No: 68 started. Searching for the next optimal point.\n",
      "Finsihed  100.00%\n",
      "Iteration No: 68 ended. Search finished for the next optimal point.\n",
      "Time taken: 81.1557\n",
      "Function value obtained: 0.0446\n",
      "Current minimum: 0.0060\n",
      "Iteration No: 69 started. Searching for the next optimal point.\n",
      "Finsihed  100.00%\n",
      "Iteration No: 69 ended. Search finished for the next optimal point.\n",
      "Time taken: 80.8322\n",
      "Function value obtained: 0.1932\n",
      "Current minimum: 0.0060\n",
      "Iteration No: 70 started. Searching for the next optimal point.\n",
      "Finsihed  100.00%\n",
      "Iteration No: 70 ended. Search finished for the next optimal point.\n",
      "Time taken: 81.3376\n",
      "Function value obtained: 0.0968\n",
      "Current minimum: 0.0060\n",
      "Iteration No: 71 started. Searching for the next optimal point.\n",
      "Finsihed  100.00%\n",
      "Iteration No: 71 ended. Search finished for the next optimal point.\n",
      "Time taken: 80.7574\n",
      "Function value obtained: 0.0699\n",
      "Current minimum: 0.0060\n",
      "Iteration No: 72 started. Searching for the next optimal point.\n",
      "Finsihed  100.00%\n",
      "Iteration No: 72 ended. Search finished for the next optimal point.\n",
      "Time taken: 81.7067\n",
      "Function value obtained: 0.0712\n",
      "Current minimum: 0.0060\n",
      "Iteration No: 73 started. Searching for the next optimal point.\n",
      "Finsihed  100.00%\n",
      "Iteration No: 73 ended. Search finished for the next optimal point.\n",
      "Time taken: 81.1182\n",
      "Function value obtained: 0.0760\n",
      "Current minimum: 0.0060\n",
      "Iteration No: 74 started. Searching for the next optimal point.\n",
      "Finsihed  100.00%\n",
      "Iteration No: 74 ended. Search finished for the next optimal point.\n",
      "Time taken: 81.8188\n",
      "Function value obtained: 0.0731\n",
      "Current minimum: 0.0060\n",
      "Iteration No: 75 started. Searching for the next optimal point.\n",
      "Finsihed  100.00%\n",
      "Iteration No: 75 ended. Search finished for the next optimal point.\n",
      "Time taken: 82.6527\n",
      "Function value obtained: 0.0761\n",
      "Current minimum: 0.0060\n",
      "Iteration No: 76 started. Searching for the next optimal point.\n",
      "Finsihed  100.00%\n",
      "Iteration No: 76 ended. Search finished for the next optimal point.\n",
      "Time taken: 81.0505\n",
      "Function value obtained: 0.0792\n",
      "Current minimum: 0.0060\n",
      "Iteration No: 77 started. Searching for the next optimal point.\n",
      "Finsihed  100.00%\n",
      "Iteration No: 77 ended. Search finished for the next optimal point.\n",
      "Time taken: 81.1575\n",
      "Function value obtained: 0.0780\n",
      "Current minimum: 0.0060\n",
      "Iteration No: 78 started. Searching for the next optimal point.\n",
      "Finsihed  100.00%\n",
      "Iteration No: 78 ended. Search finished for the next optimal point.\n",
      "Time taken: 80.7409\n",
      "Function value obtained: 0.2590\n",
      "Current minimum: 0.0060\n",
      "Iteration No: 79 started. Searching for the next optimal point.\n",
      "Finsihed  100.00%\n",
      "Iteration No: 79 ended. Search finished for the next optimal point.\n",
      "Time taken: 80.7756\n",
      "Function value obtained: 0.2154\n",
      "Current minimum: 0.0060\n",
      "Iteration No: 80 started. Searching for the next optimal point.\n",
      "Finsihed  100.00%\n",
      "Iteration No: 80 ended. Search finished for the next optimal point.\n",
      "Time taken: 81.3980\n",
      "Function value obtained: 0.1784\n",
      "Current minimum: 0.0060\n",
      "Iteration No: 81 started. Searching for the next optimal point.\n",
      "Finsihed  100.00%\n",
      "Iteration No: 81 ended. Search finished for the next optimal point.\n",
      "Time taken: 82.7251\n",
      "Function value obtained: 19931.0819\n",
      "Current minimum: 0.0060\n",
      "Iteration No: 82 started. Searching for the next optimal point.\n",
      "Finsihed  100.00%\n",
      "Iteration No: 82 ended. Search finished for the next optimal point.\n",
      "Time taken: 83.2024\n",
      "Function value obtained: 0.1946\n",
      "Current minimum: 0.0060\n",
      "Iteration No: 83 started. Searching for the next optimal point.\n",
      "Finsihed  100.00%\n",
      "Iteration No: 83 ended. Search finished for the next optimal point.\n",
      "Time taken: 82.0577\n",
      "Function value obtained: 0.1353\n",
      "Current minimum: 0.0060\n",
      "Iteration No: 84 started. Searching for the next optimal point.\n",
      "Finsihed  100.00%\n",
      "Iteration No: 84 ended. Search finished for the next optimal point.\n",
      "Time taken: 82.5893\n",
      "Function value obtained: 0.1888\n",
      "Current minimum: 0.0060\n",
      "Iteration No: 85 started. Searching for the next optimal point.\n",
      "Finsihed  100.00%\n",
      "Iteration No: 85 ended. Search finished for the next optimal point.\n",
      "Time taken: 82.5698\n",
      "Function value obtained: 0.1394\n",
      "Current minimum: 0.0060\n",
      "Iteration No: 86 started. Searching for the next optimal point.\n",
      "Finsihed  100.00%\n",
      "Iteration No: 86 ended. Search finished for the next optimal point.\n",
      "Time taken: 82.6770\n",
      "Function value obtained: 0.1132\n",
      "Current minimum: 0.0060\n",
      "Iteration No: 87 started. Searching for the next optimal point.\n",
      "Finsihed  100.00%\n",
      "Iteration No: 87 ended. Search finished for the next optimal point.\n",
      "Time taken: 82.5446\n",
      "Function value obtained: 0.2507\n",
      "Current minimum: 0.0060\n",
      "Iteration No: 88 started. Searching for the next optimal point.\n",
      "Finsihed  100.00%\n",
      "Iteration No: 88 ended. Search finished for the next optimal point.\n",
      "Time taken: 82.3608\n",
      "Function value obtained: 0.1340\n",
      "Current minimum: 0.0060\n",
      "Iteration No: 89 started. Searching for the next optimal point.\n",
      "Finsihed  100.00%\n",
      "Iteration No: 89 ended. Search finished for the next optimal point.\n",
      "Time taken: 82.0705\n",
      "Function value obtained: 0.2099\n",
      "Current minimum: 0.0060\n",
      "Iteration No: 90 started. Searching for the next optimal point.\n",
      "Finsihed  100.00%\n",
      "Iteration No: 90 ended. Search finished for the next optimal point.\n",
      "Time taken: 82.1867\n",
      "Function value obtained: 0.2588\n",
      "Current minimum: 0.0060\n",
      "Iteration No: 91 started. Searching for the next optimal point.\n",
      "Finsihed  100.00%\n",
      "Iteration No: 91 ended. Search finished for the next optimal point.\n",
      "Time taken: 82.4735\n",
      "Function value obtained: 0.2385\n",
      "Current minimum: 0.0060\n",
      "Iteration No: 92 started. Searching for the next optimal point.\n",
      "Finsihed  100.00%\n",
      "Iteration No: 92 ended. Search finished for the next optimal point.\n",
      "Time taken: 82.1535\n",
      "Function value obtained: 0.0648\n",
      "Current minimum: 0.0060\n",
      "Iteration No: 93 started. Searching for the next optimal point.\n",
      "Finsihed  100.00%\n",
      "Iteration No: 93 ended. Search finished for the next optimal point.\n",
      "Time taken: 82.2724\n",
      "Function value obtained: 0.2396\n",
      "Current minimum: 0.0060\n",
      "Iteration No: 94 started. Searching for the next optimal point.\n",
      "Finsihed  100.00%\n",
      "Iteration No: 94 ended. Search finished for the next optimal point.\n",
      "Time taken: 82.4453\n",
      "Function value obtained: 0.1754\n",
      "Current minimum: 0.0060\n",
      "Iteration No: 95 started. Searching for the next optimal point.\n",
      "Finsihed  100.00%\n",
      "Iteration No: 95 ended. Search finished for the next optimal point.\n",
      "Time taken: 82.0105\n",
      "Function value obtained: 0.2142\n",
      "Current minimum: 0.0060\n",
      "Iteration No: 96 started. Searching for the next optimal point.\n",
      "Finsihed  100.00%\n",
      "Iteration No: 96 ended. Search finished for the next optimal point.\n",
      "Time taken: 82.5384\n",
      "Function value obtained: 0.0730\n",
      "Current minimum: 0.0060\n",
      "Iteration No: 97 started. Searching for the next optimal point.\n",
      "Finsihed  100.00%\n",
      "Iteration No: 97 ended. Search finished for the next optimal point.\n",
      "Time taken: 82.6034\n",
      "Function value obtained: 1.8774\n",
      "Current minimum: 0.0060\n",
      "Iteration No: 98 started. Searching for the next optimal point.\n",
      "Finsihed  100.00%\n",
      "Iteration No: 98 ended. Search finished for the next optimal point.\n",
      "Time taken: 82.6534\n",
      "Function value obtained: 0.1389\n",
      "Current minimum: 0.0060\n",
      "Iteration No: 99 started. Searching for the next optimal point.\n",
      "Finsihed  100.00%\n",
      "Iteration No: 99 ended. Search finished for the next optimal point.\n",
      "Time taken: 82.8909\n",
      "Function value obtained: 0.0464\n",
      "Current minimum: 0.0060\n",
      "Iteration No: 100 started. Searching for the next optimal point.\n",
      "Finsihed  100.00%\n",
      "Iteration No: 100 ended. Search finished for the next optimal point.\n",
      "Time taken: 82.6543\n",
      "Function value obtained: 0.9654\n",
      "Current minimum: 0.0060\n"
     ]
    }
   ],
   "source": [
    "from skopt import gp_minimize, callbacks\n",
    "from skopt.space import Real\n",
    "from skopt.utils import use_named_args\n",
    "\n",
    "dim_corr = Real(name='corr', low=-0.3, high=0.3)\n",
    "dim_xmr = Real(name='x_mr', low=0.001, high=5)\n",
    "dim_xmu = Real(name='x_mu', low=-3, high=0)\n",
    "dim_xvol = Real(name='x_vol', low=0.01, high=1)\n",
    "dim = [dim_corr, dim_xmr, dim_xmu, dim_xvol]\n",
    "\n",
    "x0 = (np.log(real_bids_implied_vol[0]) + np.log(real_asks_implied_vol[1])) / 2\n",
    "\n",
    "params = {\n",
    "    'mu': r,\n",
    "    'h2': h_est,\n",
    "    'corr': 0.02,\n",
    "\n",
    "    'x0': x0,\n",
    "    'x_mr': 2,\n",
    "    'x_mu': x0,\n",
    "    'x_vol': 0.1\n",
    "}\n",
    "\n",
    "pricer = MontelCarloOptionPricingEngine(rfsv)\n",
    "\n",
    "def rfsv_calibrate_error(corr, x_mr, x_mu, x_vol):\n",
    "    params['corr'] = corr\n",
    "    params['x_mr'] = x_mr\n",
    "    params['x_mu'] = x_mu\n",
    "    params['x_vol'] = x_vol\n",
    "    \n",
    "    curve = pricer.european_call_find_implied_vols(\n",
    "        S0, Ks, r, T, size=2048, batch_num=10, **params\n",
    "    )\n",
    "    diff = (curve - real_bids_implied_vol)**2\n",
    "    diff += (curve - real_asks_implied_vol)**2\n",
    "    return np.sum(diff)\n",
    "\n",
    "@use_named_args(dimensions=dim)\n",
    "def _rfsv_calibrate_error(corr, x_mr, x_mu, x_vol):\n",
    "    return rfsv_calibrate_error(corr, x_mr, x_mu, x_vol)\n",
    "\n",
    "checkpoint_saver = callbacks.CheckpointSaver(\n",
    "    './CheckpointSaver/rfsv_2023_06_16_2022_06_15_2.pkl', \n",
    "    compress=9\n",
    ")\n",
    "\n",
    "result = gp_minimize(\n",
    "    _rfsv_calibrate_error,\n",
    "    dim,\n",
    "    x0=[params['corr'], params['x_mr'], params['x_mu'], params['x_vol']],\n",
    "    callback=[checkpoint_saver],\n",
    "    verbose=True,\n",
    "    n_jobs=-1\n",
    ")"
   ]
  },
  {
   "cell_type": "code",
   "execution_count": 78,
   "metadata": {},
   "outputs": [],
   "source": [
    "opt_result = result.x"
   ]
  },
  {
   "cell_type": "code",
   "execution_count": 79,
   "metadata": {},
   "outputs": [
    {
     "data": {
      "text/plain": [
       "[0.02, 2, -1.747988821085779, 0.1]"
      ]
     },
     "execution_count": 79,
     "metadata": {},
     "output_type": "execute_result"
    }
   ],
   "source": [
    "opt_result"
   ]
  },
  {
   "cell_type": "code",
   "execution_count": 85,
   "metadata": {},
   "outputs": [
    {
     "name": "stdout",
     "output_type": "stream",
     "text": [
      "Finsihed  100.00%\n"
     ]
    },
    {
     "data": {
      "image/png": "[encoded data removed]",
      "text/plain": [
       "<Figure size 432x288 with 1 Axes>"
      ]
     },
     "metadata": {
      "needs_background": "light"
     },
     "output_type": "display_data"
    }
   ],
   "source": [
    "params['corr'] = -opt_result[0]\n",
    "params['x_mr'] = opt_result[1]\n",
    "params['x_mu'] = opt_result[2]\n",
    "params['x_vol'] = opt_result[3]\n",
    "\n",
    "curve = pricer.european_call_find_implied_vols(\n",
    "    S0, Ks, r, T, size=4096, batch_num=5, **params\n",
    ")\n",
    "\n",
    "plt.plot(log_Ks, curve)\n",
    "plt.scatter(log_Ks, real_bids_implied_vol, color='blue')\n",
    "plt.scatter(log_Ks, real_asks_implied_vol, color='red')\n",
    "plt.show()"
   ]
  },
  {
   "cell_type": "code",
   "execution_count": 130,
   "metadata": {},
   "outputs": [
    {
     "name": "stdout",
     "output_type": "stream",
     "text": [
      "Finsihed  100.00%\n",
      "0.004249515101322972\n"
     ]
    },
    {
     "data": {
      "image/png": "[encoded data removed]",
      "text/plain": [
       "<Figure size 432x288 with 1 Axes>"
      ]
     },
     "metadata": {
      "needs_background": "light"
     },
     "output_type": "display_data"
    }
   ],
   "source": [
    "params['h2'] = h_est\n",
    "params['corr'] = -0.02\n",
    "params['mu'] = r\n",
    "params['x0'] = -2\n",
    "params['x_mr'] = 5e-2\n",
    "params['x_mu'] = -2\n",
    "params['x_vol'] = 0.45\n",
    "\n",
    "curve = pricer.european_call_find_implied_vols(\n",
    "    S0, Ks, r, T, size=1024, batch_num=1, **params\n",
    ")\n",
    "\n",
    "sum_diff = (curve - real_bids_implied_vol)**2\n",
    "sum_diff += (curve - real_asks_implied_vol)**2\n",
    "print(np.sum(sum_diff))\n",
    "\n",
    "plt.plot(log_Ks, curve)\n",
    "plt.scatter(log_Ks, real_bids_implied_vol, color='blue')\n",
    "plt.scatter(log_Ks, real_asks_implied_vol, color='red')\n",
    "plt.show()"
   ]
  },
  {
   "cell_type": "code",
   "execution_count": 159,
   "metadata": {},
   "outputs": [
    {
     "data": {
      "text/plain": [
       "0.143507819888922"
      ]
     },
     "execution_count": 159,
     "metadata": {},
     "output_type": "execute_result"
    }
   ],
   "source": [
    "h_est"
   ]
  },
  {
   "cell_type": "code",
   "execution_count": 158,
   "metadata": {},
   "outputs": [
    {
     "name": "stdout",
     "output_type": "stream",
     "text": [
      "RFSV: Simulating  99.99% dwh\n",
      "Finsihed  100.00%\n",
      "0.002439333920414208\n"
     ]
    },
    {
     "data": {
      "image/png": "[encoded data removed]",
      "text/plain": [
       "<Figure size 432x288 with 1 Axes>"
      ]
     },
     "metadata": {
      "needs_background": "light"
     },
     "output_type": "display_data"
    }
   ],
   "source": [
    "x_est = -1.98\n",
    "params['h2'] = h_est\n",
    "params['corr'] = -0.05\n",
    "params['mu'] = r\n",
    "params['x0'] = -1.95\n",
    "params['x_mr'] = 0.0125\n",
    "params['x_mu'] = -1.87\n",
    "params['x_vol'] = 0.25\n",
    "\n",
    "rfsv.simulate(S0, T, 1001, 10000)\n",
    "\n",
    "curve = pricer.european_call_find_implied_vols(\n",
    "    S0, Ks, r, T, size=2048, batch_num=10, **params\n",
    ")\n",
    "\n",
    "sum_diff = (curve - real_bids_implied_vol)**2\n",
    "sum_diff += (curve - real_asks_implied_vol)**2\n",
    "print(np.sum(sum_diff))\n",
    "\n",
    "plt.plot(log_Ks, curve)\n",
    "plt.scatter(log_Ks, real_bids_implied_vol, color='blue')\n",
    "plt.scatter(log_Ks, real_asks_implied_vol, color='red')\n",
    "plt.xlabel('log-Strike')\n",
    "plt.ylabel('Implied Volatility')\n",
    "plt.show()"
   ]
  },
  {
   "cell_type": "code",
   "execution_count": 160,
   "metadata": {},
   "outputs": [
    {
     "data": {
      "text/plain": [
       "1.0027397260273974"
      ]
     },
     "execution_count": 160,
     "metadata": {},
     "output_type": "execute_result"
    }
   ],
   "source": [
    "T"
   ]
  },
  {
   "cell_type": "code",
   "execution_count": 82,
   "metadata": {},
   "outputs": [
    {
     "name": "stdout",
     "output_type": "stream",
     "text": [
      "Finsihed  100.00%\n"
     ]
    },
    {
     "data": {
      "text/plain": [
       "0.009806305237992464"
      ]
     },
     "execution_count": 82,
     "metadata": {},
     "output_type": "execute_result"
    }
   ],
   "source": [
    "rfsv_calibrate_error(-opt_result[0], opt_result[1], opt_result[2], opt_result[3])"
   ]
  },
  {
   "cell_type": "code",
   "execution_count": 84,
   "metadata": {},
   "outputs": [
    {
     "data": {
      "image/png": "[encoded data removed]",
      "text/plain": [
       "<Figure size 432x288 with 1 Axes>"
      ]
     },
     "metadata": {
      "needs_background": "light"
     },
     "output_type": "display_data"
    }
   ],
   "source": [
    "plt.scatter(log_Ks, real_bids_implied_vol, color='blue')\n",
    "plt.scatter(log_Ks, real_asks_implied_vol, color='red')\n",
    "plt.plot(log_Ks, curve)\n",
    "plt.show()"
   ]
  },
  {
   "cell_type": "code",
   "execution_count": 161,
   "metadata": {},
   "outputs": [
    {
     "data": {
      "text/plain": [
       "{'mu': 0.04791,\n",
       " 'h2': 0.143507819888922,\n",
       " 'corr': -0.05,\n",
       " 'x0': -1.95,\n",
       " 'x_mr': 0.0125,\n",
       " 'x_mu': -1.87,\n",
       " 'x_vol': 0.25}"
      ]
     },
     "execution_count": 161,
     "metadata": {},
     "output_type": "execute_result"
    }
   ],
   "source": [
    "params"
   ]
  },
  {
   "cell_type": "code",
   "execution_count": 162,
   "metadata": {},
   "outputs": [
    {
     "data": {
      "text/plain": [
       "3789.989990234375"
      ]
     },
     "execution_count": 162,
     "metadata": {},
     "output_type": "execute_result"
    }
   ],
   "source": [
    "S0"
   ]
  },
  {
   "cell_type": "code",
   "execution_count": 179,
   "metadata": {},
   "outputs": [
    {
     "name": "stdout",
     "output_type": "stream",
     "text": [
      "RFSV: Simulating  99.99% dwh\n",
      "Finsihed  100.00%\n",
      "0.031400780566288915\n"
     ]
    },
    {
     "data": {
      "image/png": "[encoded data removed]",
      "text/plain": [
       "<Figure size 432x288 with 1 Axes>"
      ]
     },
     "metadata": {
      "needs_background": "light"
     },
     "output_type": "display_data"
    }
   ],
   "source": [
    "x_est = -1.98\n",
    "params['h2'] = h_est\n",
    "params['corr'] = -0.05\n",
    "params['mu'] = r\n",
    "params['x0'] = -1.79\n",
    "params['x_mr'] = 0.0125\n",
    "params['x_mu'] = -3\n",
    "params['x_vol'] = 0.25\n",
    "\n",
    "rfsv.simulate(S0, T, 1001, 10000)\n",
    "\n",
    "curve = pricer.european_call_find_implied_vols(\n",
    "    S0, Ks, r, T, size=2048, batch_num=1, **params\n",
    ")\n",
    "\n",
    "sum_diff = (curve - real_bids_implied_vol)**2\n",
    "sum_diff += (curve - real_asks_implied_vol)**2\n",
    "print(np.sum(sum_diff))\n",
    "\n",
    "plt.plot(log_Ks, curve)\n",
    "plt.scatter(log_Ks, real_bids_implied_vol, color='blue')\n",
    "plt.scatter(log_Ks, real_asks_implied_vol, color='red')\n",
    "plt.xlabel('log-Strike')\n",
    "plt.ylabel('Implied Volatility')\n",
    "plt.show()"
   ]
  },
  {
   "cell_type": "code",
   "execution_count": 168,
   "metadata": {},
   "outputs": [
    {
     "data": {
      "text/plain": [
       "0.16729963814466722"
      ]
     },
     "execution_count": 168,
     "metadata": {},
     "output_type": "execute_result"
    }
   ],
   "source": [
    "np.average(np.array([real_asks_implied_vol, real_bids_implied_vol]))"
   ]
  },
  {
   "cell_type": "code",
   "execution_count": 180,
   "metadata": {},
   "outputs": [
    {
     "data": {
      "text/plain": [
       "(array([3600., 3650., 3725., 3750., 3775., 3800., 3850., 3925., 3950.,\n",
       "        3975., 4000., 4100., 4200., 4300., 4400., 4425., 4450., 4500.,\n",
       "        4550., 4625., 4775., 4800., 4825., 4850., 5000., 5300.]),\n",
       " array([471.8, 442.8, 400.4, 383.1, 370.1, 357.6, 330.9, 291.5, 280.5,\n",
       "        268.5, 256.7, 212.2, 173. , 138.6, 108.7, 102.4,  94.6,  84. ,\n",
       "         73.5,  60.1,  40.5,  37.7,  35.6,  32.8,  22.5,  11.3]),\n",
       " array([465.3, 436.2, 391.9, 377.2, 363.4, 351.4, 325. , 285.2, 274.9,\n",
       "        262.3, 251.3, 207.2, 167.9, 133.6, 104.5,  98.1,  91.3,  80.5,\n",
       "         70. ,  56.6,  37.6,  35.5,  32.7,  30.7,  21. ,   9.8]))"
      ]
     },
     "execution_count": 180,
     "metadata": {},
     "output_type": "execute_result"
    }
   ],
   "source": [
    "(Ks,real_asks, real_bids)"
   ]
  },
  {
   "cell_type": "code",
   "execution_count": 181,
   "metadata": {},
   "outputs": [],
   "source": [
    "from fbm.utils import BackupHelper\n",
    "\n",
    "spx_data_backup = BackupHelper('./data', 'spx_data_0616')\n",
    "spx_data_backup.dump((Ks, real_asks, real_bids))"
   ]
  },
  {
   "cell_type": "code",
   "execution_count": null,
   "metadata": {},
   "outputs": [],
   "source": []
  }
 ],
 "metadata": {
  "interpreter": {
   "hash": "3850688393a4ba5b2416f6517a76ae51fd95fdc1af9c4fef93be4a05dec08535"
  },
  "kernelspec": {
   "display_name": "Python 3.7.9 ('ic')",
   "language": "python",
   "name": "python3"
  },
  "language_info": {
   "codemirror_mode": {
    "name": "ipython",
    "version": 3
   },
   "file_extension": ".py",
   "mimetype": "text/x-python",
   "name": "python",
   "nbconvert_exporter": "python",
   "pygments_lexer": "ipython3",
   "version": "3.7.9"
  },
  "orig_nbformat": 4
 },
 "nbformat": 4,
 "nbformat_minor": 2
}
