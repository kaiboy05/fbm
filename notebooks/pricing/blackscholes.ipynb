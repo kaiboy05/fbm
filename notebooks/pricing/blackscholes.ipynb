{
 "cells": [
  {
   "cell_type": "code",
   "execution_count": 1,
   "metadata": {},
   "outputs": [],
   "source": [
    "%load_ext autoreload\n",
    "%autoreload 2\n",
    "\n",
    "import os\n",
    "import sys\n",
    "import numpy as np\n",
    "import matplotlib.pyplot as plt\n",
    "import copy\n",
    "\n",
    "module_path = os.path.abspath(os.path.join('../..'))\n",
    "if module_path not in sys.path:\n",
    "    sys.path.append(module_path)"
   ]
  },
  {
   "cell_type": "code",
   "execution_count": 11,
   "metadata": {},
   "outputs": [
    {
     "data": {
      "text/plain": [
       "[<matplotlib.lines.Line2D at 0x7faf92529590>]"
      ]
     },
     "execution_count": 11,
     "metadata": {},
     "output_type": "execute_result"
    },
    {
     "data": {
      "image/png": "[encoded data removed]",
      "text/plain": [
       "<Figure size 432x288 with 1 Axes>"
      ]
     },
     "metadata": {
      "needs_background": "light"
     },
     "output_type": "display_data"
    }
   ],
   "source": [
    "H = 0.01\n",
    "a = np.linspace(1, 1000, 1001)\n",
    "y = (a+1)**(H+0.5) - 2*a**(H+0.5) + (a-1)**(H+0.5)\n",
    "\n",
    "plt.plot(a, y)"
   ]
  },
  {
   "cell_type": "code",
   "execution_count": 12,
   "metadata": {},
   "outputs": [
    {
     "name": "stdout",
     "output_type": "stream",
     "text": [
      "0.029512092266663854\n",
      "-0.5759498044029283\n",
      "-0.09699764799302302\n",
      "-0.05045194981995493\n",
      "-0.032343533636264965\n",
      "-0.023029229956522013\n",
      "-0.01748377551935576\n",
      "-0.013864075399248055\n",
      "-0.011345993484446204\n",
      "-0.009510177414203902\n",
      "-0.00812267432321745\n",
      "-0.007043602021767903\n",
      "-0.006184665390256416\n",
      "-0.00548764468176266\n",
      "-0.004912745581346467\n",
      "-0.004431935046735891\n",
      "-0.004024951654886255\n",
      "-0.003676823366800974\n",
      "-0.003376271329560865\n",
      "-0.0031146536226804855\n",
      "-0.0028852485406511974\n",
      "-0.002682757360353172\n",
      "-0.0025029524990580754\n",
      "-0.0023424241046852146\n",
      "-0.0021983946043917513\n",
      "-0.002068581009223358\n",
      "-0.0019510913213016678\n",
      "-0.001844345652830981\n",
      "-0.001747015493795523\n",
      "-0.001657976473694589\n",
      "-0.0015762712711744342\n",
      "-0.0015010802359567421\n",
      "-0.0014316979295676546\n",
      "-0.0013675142499343096\n",
      "-0.001307999136302307\n",
      "-0.001252690092859332\n",
      "-0.0012011819480903796\n",
      "-0.0011531183998618744\n",
      "-0.001108184996257755\n",
      "-0.0010661032779202273\n",
      "-0.0010266258655953209\n",
      "-0.0009895323211184248\n",
      "-0.0009546256446135715\n",
      "-0.0009217292976417824\n",
      "-0.0008906846632434906\n",
      "-0.0008613488704698469\n",
      "-0.0008335929243656892\n",
      "-0.0008073000929504914\n",
      "-0.0007823645112612354\n",
      "-0.0007586899694613791\n",
      "-0.000736188857530351\n",
      "-0.0007147812436567591\n",
      "-0.0006943940671613191\n",
      "-0.0006749604298237344\n",
      "-0.0006564189720190683\n",
      "-0.0006387133221794628\n",
      "-0.0006217916097854825\n",
      "-0.0006056060335977165\n",
      "-0.0005901124780036682\n",
      "-0.0005752701714110131\n",
      "-0.0005610413814514104\n",
      "-0.0005473911424722644\n",
      "-0.0005342870114777298\n",
      "-0.0005216988490985841\n",
      "-0.0005095986227026117\n",
      "-0.000497960229081329\n",
      "-0.0004867593345476706\n",
      "-0.000475973230400939\n",
      "-0.00046558070223490233\n",
      "-0.0004555619114032794\n",
      "-0.0004458982874950834\n",
      "-0.00043657243059413986\n",
      "-0.0004275680223209122\n",
      "-0.0004188697447400358\n",
      "-0.0004104632063892666\n",
      "-0.0004023348746642341\n",
      "-0.0003944720139799074\n",
      "-0.0003868626290923771\n",
      "-0.00037949541317772173\n",
      "-0.00037235970010485175\n",
      "-0.00036544542062344476\n",
      "-0.00035874306200511796\n",
      "-0.0003522436308909249\n",
      "-0.0003459386190627356\n",
      "-0.0003398199717832284\n",
      "-0.0003338800586245583\n",
      "-0.000328111646430429\n",
      "-0.00032250787432630545\n",
      "-0.0003170622305503912\n",
      "-0.0003117685309916851\n",
      "-0.0003066208992290598\n",
      "-0.00030161374803938656\n",
      "-0.00029674176217042714\n",
      "-0.0002919998823429637\n",
      "-0.000287383290311638\n",
      "-0.0002828873949969335\n",
      "-0.00027850781951421766\n",
      "-0.00027424038907675197\n",
      "-0.00027008111971049686\n",
      "-0.00026602620769722307\n",
      "-0.0002620720196926385\n"
     ]
    }
   ],
   "source": [
    "print((1/1000) ** (H+0.5))\n",
    "for i in range(100):\n",
    "    print(y[i])"
   ]
  },
  {
   "cell_type": "code",
   "execution_count": null,
   "metadata": {},
   "outputs": [],
   "source": [
    "from pricing.price_engine import blackscholes_call\n",
    "\n",
    "S0 = 3789.989990234375\n",
    "T = 1\n",
    "r = 0.04791\n",
    "\n",
    "Ks = np.linspace(0, 3, 1001)\n",
    "strikes = np.linspace(S0 - 500, S0 + 500, 1001)\n"
   ]
  }
 ],
 "metadata": {
  "interpreter": {
   "hash": "3850688393a4ba5b2416f6517a76ae51fd95fdc1af9c4fef93be4a05dec08535"
  },
  "kernelspec": {
   "display_name": "Python 3.7.9 ('ic')",
   "language": "python",
   "name": "python3"
  },
  "language_info": {
   "codemirror_mode": {
    "name": "ipython",
    "version": 3
   },
   "file_extension": ".py",
   "mimetype": "text/x-python",
   "name": "python",
   "nbconvert_exporter": "python",
   "pygments_lexer": "ipython3",
   "version": "3.7.9"
  },
  "orig_nbformat": 4
 },
 "nbformat": 4,
 "nbformat_minor": 2
}
