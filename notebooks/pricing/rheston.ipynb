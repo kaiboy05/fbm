{
 "cells": [
  {
   "cell_type": "code",
   "execution_count": 4,
   "metadata": {},
   "outputs": [
    {
     "name": "stdout",
     "output_type": "stream",
     "text": [
      "The autoreload extension is already loaded. To reload it, use:\n",
      "  %reload_ext autoreload\n"
     ]
    }
   ],
   "source": [
    "%load_ext autoreload\n",
    "%autoreload 2\n",
    "\n",
    "import os\n",
    "import sys\n",
    "import numpy as np\n",
    "import matplotlib.pyplot as plt\n",
    "import copy\n",
    "\n",
    "module_path = os.path.abspath(os.path.join('../..'))\n",
    "if module_path not in sys.path:\n",
    "    sys.path.append(module_path)"
   ]
  },
  {
   "cell_type": "code",
   "execution_count": 5,
   "metadata": {},
   "outputs": [],
   "source": [
    "from pricing.rheston import RoughHeston\n",
    "from pricing.price_engine import MontelCarloOptionPricingEngine"
   ]
  },
  {
   "cell_type": "code",
   "execution_count": 6,
   "metadata": {},
   "outputs": [],
   "source": [
    "S = 300\n",
    "T = 1\n",
    "r = 0.03"
   ]
  },
  {
   "cell_type": "code",
   "execution_count": 7,
   "metadata": {},
   "outputs": [],
   "source": [
    "params1 = {\n",
    "    'mu': r,\n",
    "    'corr': 0.02,\n",
    "    'h2': 0.5,\n",
    "\n",
    "    'v0': 0.0225,\n",
    "    'v_mr': 2,\n",
    "    'v_mu': 0.0225,\n",
    "    'v_vol': 0.3\n",
    "}"
   ]
  },
  {
   "cell_type": "code",
   "execution_count": 8,
   "metadata": {},
   "outputs": [
    {
     "name": "stdout",
     "output_type": "stream",
     "text": [
      "Finsihed  100.00%\n",
      "21.82021672586943\n"
     ]
    }
   ],
   "source": [
    "rheston1 = RoughHeston()\n",
    "rheston1.set_parameters(**params1)\n",
    "\n",
    "pricer1 = MontelCarloOptionPricingEngine(rheston1)\n",
    "price1 = pricer1.european_call_option_price(S, S, r, T, size=1001)\n",
    "print(price1)"
   ]
  },
  {
   "cell_type": "code",
   "execution_count": 20,
   "metadata": {},
   "outputs": [],
   "source": [
    "log_Ks = np.linspace(-0.3, 0.15, 50)\n",
    "Ks = np.exp(log_Ks) * S"
   ]
  },
  {
   "cell_type": "code",
   "execution_count": 21,
   "metadata": {},
   "outputs": [
    {
     "name": "stdout",
     "output_type": "stream",
     "text": [
      "Finsihed  100.00%\n"
     ]
    }
   ],
   "source": [
    "implied_vols1, prices1 = pricer1.find_implied_vols(S, Ks, r, T, size=10001, batch_num=10)"
   ]
  },
  {
   "cell_type": "code",
   "execution_count": 27,
   "metadata": {},
   "outputs": [
    {
     "data": {
      "text/plain": [
       "array([84.65864464, 82.71411849, 80.7566634 , 78.78695701, 76.80524262,\n",
       "       74.81247304, 72.80915215, 70.79679282, 68.77611962, 66.74848514,\n",
       "       64.71607398, 62.67921753, 60.63884047, 58.59638602, 56.55441354,\n",
       "       54.51372039, 52.47656238, 50.44601698, 48.4235975 , 46.41246747,\n",
       "       44.41595449, 42.43719519, 40.47846197, 38.54292291, 36.6341005 ,\n",
       "       34.75577226, 32.9117849 , 31.10538379, 29.34280479, 27.62593917,\n",
       "       25.95902375, 24.34365119, 22.78144687, 21.27732717, 19.83301226,\n",
       "       18.45106242, 17.13268167, 15.87916642, 14.69105711, 13.56874699,\n",
       "       12.50981704, 11.51436279, 10.58332247,  9.71113489,  8.89625929,\n",
       "        8.13722996,  7.43274304,  6.78175988,  6.18178938,  5.62939778])"
      ]
     },
     "execution_count": 27,
     "metadata": {},
     "output_type": "execute_result"
    }
   ],
   "source": [
    "prices1"
   ]
  },
  {
   "cell_type": "code",
   "execution_count": 28,
   "metadata": {},
   "outputs": [
    {
     "data": {
      "text/plain": [
       "array([0.163539  , 0.16280225, 0.16204243, 0.16127497, 0.16048474,\n",
       "       0.15969206, 0.15888833, 0.15810422, 0.15732882, 0.15657164,\n",
       "       0.15586091, 0.15516048, 0.15445647, 0.15374837, 0.1530577 ,\n",
       "       0.15236117, 0.15166686, 0.15099297, 0.1503247 , 0.14967434,\n",
       "       0.14905165, 0.14845969, 0.14788804, 0.1473382 , 0.14681454,\n",
       "       0.14632281, 0.14586817, 0.14544882, 0.14509321, 0.14478538,\n",
       "       0.14453461, 0.14432716, 0.14415312, 0.14403415, 0.14396588,\n",
       "       0.14395435, 0.14399741, 0.14409724, 0.14425338, 0.14446781,\n",
       "       0.14472239, 0.1450233 , 0.14538763, 0.14577882, 0.14619668,\n",
       "       0.14664396, 0.14712729, 0.14765865, 0.14823825, 0.14885728])"
      ]
     },
     "execution_count": 28,
     "metadata": {},
     "output_type": "execute_result"
    }
   ],
   "source": [
    "implied_vols1"
   ]
  },
  {
   "cell_type": "code",
   "execution_count": 22,
   "metadata": {},
   "outputs": [
    {
     "data": {
      "image/png": "[encoded data removed]",
      "text/plain": [
       "<Figure size 432x288 with 1 Axes>"
      ]
     },
     "metadata": {
      "needs_background": "light"
     },
     "output_type": "display_data"
    },
    {
     "data": {
      "image/png": "[encoded data removed]",
      "text/plain": [
       "<Figure size 432x288 with 1 Axes>"
      ]
     },
     "metadata": {
      "needs_background": "light"
     },
     "output_type": "display_data"
    }
   ],
   "source": [
    "plt.plot(log_Ks, implied_vols1)\n",
    "plt.show()\n",
    "\n",
    "plt.plot(log_Ks, prices1)\n",
    "plt.show()"
   ]
  },
  {
   "cell_type": "code",
   "execution_count": 36,
   "metadata": {},
   "outputs": [],
   "source": [
    "params2 = {\n",
    "    'mu': r,\n",
    "    'corr': 0.02,\n",
    "    'h2': 0.15,\n",
    "\n",
    "    'v0': 0.0225,\n",
    "    'v_mr': 2,\n",
    "    'v_mu': 0.0225,\n",
    "    'v_vol': 0.1\n",
    "}"
   ]
  },
  {
   "cell_type": "code",
   "execution_count": 38,
   "metadata": {},
   "outputs": [
    {
     "name": "stdout",
     "output_type": "stream",
     "text": [
      "Finsihed  100.00%\n",
      "16.496255257677102\n"
     ]
    }
   ],
   "source": [
    "rheston2 = RoughHeston()\n",
    "rheston2.set_parameters(**params2)\n",
    "\n",
    "pricer2 = MontelCarloOptionPricingEngine(rheston2)\n",
    "price2 = pricer2.european_call_option_price(S, S, r, T, size=1001)\n",
    "print(price2)"
   ]
  },
  {
   "cell_type": "code",
   "execution_count": 39,
   "metadata": {},
   "outputs": [
    {
     "name": "stdout",
     "output_type": "stream",
     "text": [
      "Finsihed  100.00%\n"
     ]
    },
    {
     "name": "stderr",
     "output_type": "stream",
     "text": [
      "/home/chester/Documents/IC/FYP/FractionalBrownianMotion/pricing/price_engine.py:12: RuntimeWarning: overflow encountered in double_scalars\n",
      "  d1 = (np.log(S/K) + (r + sigma**2/2)*T) / (sigma*np.sqrt(T))\n",
      "/home/chester/Documents/IC/FYP/FractionalBrownianMotion/pricing/price_engine.py:17: RuntimeWarning: overflow encountered in double_scalars\n",
      "  d1 = (np.log(S/K) + (sigma**2/2)*T) / (sigma*np.sqrt(T))\n"
     ]
    }
   ],
   "source": [
    "implied_vols2, prices2 = pricer2.find_implied_vols(S, Ks, r, T, size=10001, batch_num=10)"
   ]
  },
  {
   "cell_type": "code",
   "execution_count": 40,
   "metadata": {},
   "outputs": [
    {
     "data": {
      "image/png": "[encoded data removed]",
      "text/plain": [
       "<Figure size 432x288 with 1 Axes>"
      ]
     },
     "metadata": {
      "needs_background": "light"
     },
     "output_type": "display_data"
    },
    {
     "data": {
      "image/png": "[encoded data removed]",
      "text/plain": [
       "<Figure size 432x288 with 1 Axes>"
      ]
     },
     "metadata": {
      "needs_background": "light"
     },
     "output_type": "display_data"
    }
   ],
   "source": [
    "plt.plot(log_Ks, implied_vols2)\n",
    "plt.show()\n",
    "\n",
    "plt.plot(log_Ks, prices2)\n",
    "plt.show()"
   ]
  },
  {
   "cell_type": "code",
   "execution_count": 41,
   "metadata": {},
   "outputs": [
    {
     "data": {
      "text/plain": [
       "array([       nan,        nan,        nan,        nan,        nan,\n",
       "              nan,        nan,        nan,        nan,        nan,\n",
       "              nan,        nan,        nan,        nan,        nan,\n",
       "              nan,        nan,        nan,        nan,        nan,\n",
       "              nan,        nan,        nan,        nan,        nan,\n",
       "              nan,        nan,        nan,        nan,        nan,\n",
       "              nan,        nan,        nan,        nan, 0.02155139,\n",
       "       0.02600995, 0.02855308,        nan,        nan,        nan,\n",
       "              nan,        nan,        nan,        nan,        nan,\n",
       "              nan,        nan,        nan,        nan,        nan])"
      ]
     },
     "execution_count": 41,
     "metadata": {},
     "output_type": "execute_result"
    }
   ],
   "source": [
    "implied_vols2"
   ]
  },
  {
   "cell_type": "code",
   "execution_count": 42,
   "metadata": {},
   "outputs": [
    {
     "data": {
      "text/plain": [
       "array([8.17761883e+01, 7.97863570e+01, 7.77781677e+01, 7.57514508e+01,\n",
       "       7.37060355e+01, 7.16417492e+01, 6.95584179e+01, 6.74558659e+01,\n",
       "       6.53339157e+01, 6.31923885e+01, 6.10311037e+01, 5.88498788e+01,\n",
       "       5.66485301e+01, 5.44268718e+01, 5.21847165e+01, 4.99218751e+01,\n",
       "       4.76381568e+01, 4.53333907e+01, 4.30073917e+01, 4.06599901e+01,\n",
       "       3.82910334e+01, 3.59005012e+01, 3.34889030e+01, 3.10570703e+01,\n",
       "       2.86069926e+01, 2.61425155e+01, 2.36695719e+01, 2.11985288e+01,\n",
       "       1.87448087e+01, 1.63310372e+01, 1.39873993e+01, 1.17466430e+01,\n",
       "       9.64718982e+00, 7.72614242e+00, 6.01796412e+00, 4.54657680e+00,\n",
       "       3.32715992e+00, 2.35218846e+00, 1.60487032e+00, 1.05519660e+00,\n",
       "       6.66283718e-01, 4.03613284e-01, 2.33536696e-01, 1.29726555e-01,\n",
       "       6.90939106e-02, 3.49822965e-02, 1.67967470e-02, 7.94818715e-03,\n",
       "       3.69591978e-03, 1.64815889e-03])"
      ]
     },
     "execution_count": 42,
     "metadata": {},
     "output_type": "execute_result"
    }
   ],
   "source": [
    "prices2"
   ]
  },
  {
   "cell_type": "code",
   "execution_count": 33,
   "metadata": {},
   "outputs": [
    {
     "name": "stdout",
     "output_type": "stream",
     "text": [
      "RFSV: Simulating  90.00% dwh\n"
     ]
    },
    {
     "data": {
      "image/png": "[encoded data removed]",
      "text/plain": [
       "<Figure size 432x288 with 1 Axes>"
      ]
     },
     "metadata": {
      "needs_background": "light"
     },
     "output_type": "display_data"
    }
   ],
   "source": [
    "paths2 = rheston2.simulate(S, T, 1001, 10, return_path=True)\n",
    "for p in paths2:\n",
    "    plt.plot(np.linspace(0, T, 1001), p)\n",
    "plt.show()"
   ]
  },
  {
   "cell_type": "code",
   "execution_count": 35,
   "metadata": {},
   "outputs": [
    {
     "data": {
      "text/plain": [
       "array([-0.03384227, -0.0351856 , -0.03666669, -0.03830698, -0.04012475,\n",
       "       -0.04214949, -0.04440813, -0.04694437, -0.04979618, -0.05301515,\n",
       "       -0.05667146, -0.06081638, -0.06551732, -0.07085929, -0.07695741,\n",
       "       -0.08391336, -0.09186939, -0.10100365, -0.11149242, -0.12357124,\n",
       "       -0.13751597, -0.15364284, -0.17230212, -0.19392109, -0.21900347,\n",
       "       -0.2481278 , -0.28195401, -0.32116432, -0.3664612 , -0.41828203,\n",
       "       -0.47668953, -0.5410234 , -0.60971204, -0.68020353, -0.7488221 ,\n",
       "       -0.81209813, -0.86700122, -0.91134299, -0.9446477 , -0.96787458,\n",
       "       -0.98268356, -0.99135894, -0.99604678, -0.99835881, -0.99939072,\n",
       "       -0.99980679, -0.99995826, -0.99999478, -1.        , -1.        ])"
      ]
     },
     "execution_count": 35,
     "metadata": {},
     "output_type": "execute_result"
    }
   ],
   "source": [
    "(prices2 - prices1) / prices1"
   ]
  },
  {
   "cell_type": "markdown",
   "metadata": {},
   "source": [
    "Calibration"
   ]
  },
  {
   "cell_type": "code",
   "execution_count": 43,
   "metadata": {},
   "outputs": [],
   "source": [
    "import yfinance as yf\n",
    "import pandas as pd"
   ]
  },
  {
   "cell_type": "code",
   "execution_count": 48,
   "metadata": {},
   "outputs": [],
   "source": [
    "spx = yf.Ticker(\"^SPX\")"
   ]
  },
  {
   "cell_type": "code",
   "execution_count": 49,
   "metadata": {},
   "outputs": [
    {
     "data": {
      "text/plain": [
       "{'exchange': 'WCB',\n",
       " 'shortName': 'S&P 500 INDEX',\n",
       " 'exchangeTimezoneName': 'America/New_York',\n",
       " 'exchangeTimezoneShortName': 'EDT',\n",
       " 'isEsgPopulated': False,\n",
       " 'gmtOffSetMilliseconds': '-14400000',\n",
       " 'underlyingSymbol': '^GSPC',\n",
       " 'quoteType': 'INDEX',\n",
       " 'symbol': '^SPX',\n",
       " 'market': 'us_market',\n",
       " 'previousClose': 3735.48,\n",
       " 'regularMarketOpen': 3764.05,\n",
       " 'twoHundredDayAverage': None,\n",
       " 'trailingAnnualDividendYield': None,\n",
       " 'payoutRatio': None,\n",
       " 'volume24Hr': None,\n",
       " 'regularMarketDayHigh': 3837.56,\n",
       " 'navPrice': None,\n",
       " 'averageDailyVolume10Day': None,\n",
       " 'totalAssets': None,\n",
       " 'regularMarketPreviousClose': 3735.48,\n",
       " 'fiftyDayAverage': None,\n",
       " 'trailingAnnualDividendRate': None,\n",
       " 'open': 3764.05,\n",
       " 'toCurrency': None,\n",
       " 'averageVolume10days': None,\n",
       " 'expireDate': None,\n",
       " 'yield': None,\n",
       " 'algorithm': None,\n",
       " 'dividendRate': None,\n",
       " 'exDividendDate': None,\n",
       " 'beta': None,\n",
       " 'circulatingSupply': None,\n",
       " 'startDate': None,\n",
       " 'regularMarketDayLow': 3722.3,\n",
       " 'priceHint': 2,\n",
       " 'currency': 'USD',\n",
       " 'regularMarketVolume': 2783105858,\n",
       " 'lastMarket': None,\n",
       " 'maxSupply': None,\n",
       " 'openInterest': None,\n",
       " 'marketCap': None,\n",
       " 'volumeAllCurrencies': None,\n",
       " 'strikePrice': None,\n",
       " 'averageVolume': None,\n",
       " 'priceToSalesTrailing12Months': None,\n",
       " 'dayLow': 3722.3,\n",
       " 'ask': 3839.33,\n",
       " 'ytdReturn': None,\n",
       " 'askSize': 0,\n",
       " 'volume': 2783105858,\n",
       " 'fiftyTwoWeekHigh': 3837.56,\n",
       " 'forwardPE': None,\n",
       " 'maxAge': 1,\n",
       " 'fromCurrency': None,\n",
       " 'fiveYearAvgDividendYield': None,\n",
       " 'fiftyTwoWeekLow': 3722.3,\n",
       " 'bid': 3754.4,\n",
       " 'tradeable': False,\n",
       " 'dividendYield': None,\n",
       " 'bidSize': 0,\n",
       " 'dayHigh': 3837.56,\n",
       " 'regularMarketPrice': 3789.99,\n",
       " 'preMarketPrice': None,\n",
       " 'logo_url': ''}"
      ]
     },
     "execution_count": 49,
     "metadata": {},
     "output_type": "execute_result"
    }
   ],
   "source": [
    "spx.info"
   ]
  },
  {
   "cell_type": "code",
   "execution_count": 91,
   "metadata": {},
   "outputs": [],
   "source": [
    "spx_option_data = spx.option_chain('2023-06-16').calls\n",
    "spx_option_data = spx_option_data[\n",
    "    (spx_option_data['lastTradeDate'] >= '2022-06-15') & \n",
    "    (spx_option_data['strike'] > 3000) &\n",
    "    (spx_option_data['strike'] < 5500)\n",
    "]"
   ]
  },
  {
   "cell_type": "code",
   "execution_count": 101,
   "metadata": {},
   "outputs": [
    {
     "data": {
      "text/html": [
       "<div>\n",
       "<style scoped>\n",
       "    .dataframe tbody tr th:only-of-type {\n",
       "        vertical-align: middle;\n",
       "    }\n",
       "\n",
       "    .dataframe tbody tr th {\n",
       "        vertical-align: top;\n",
       "    }\n",
       "\n",
       "    .dataframe thead th {\n",
       "        text-align: right;\n",
       "    }\n",
       "</style>\n",
       "<table border=\"1\" class=\"dataframe\">\n",
       "  <thead>\n",
       "    <tr style=\"text-align: right;\">\n",
       "      <th></th>\n",
       "      <th>contractSymbol</th>\n",
       "      <th>lastTradeDate</th>\n",
       "      <th>strike</th>\n",
       "      <th>lastPrice</th>\n",
       "      <th>bid</th>\n",
       "      <th>ask</th>\n",
       "      <th>change</th>\n",
       "      <th>percentChange</th>\n",
       "      <th>volume</th>\n",
       "      <th>openInterest</th>\n",
       "      <th>impliedVolatility</th>\n",
       "      <th>inTheMoney</th>\n",
       "      <th>contractSize</th>\n",
       "      <th>currency</th>\n",
       "    </tr>\n",
       "  </thead>\n",
       "  <tbody>\n",
       "    <tr>\n",
       "      <th>27</th>\n",
       "      <td>SPX230616C03600000</td>\n",
       "      <td>2022-06-15 19:05:25+00:00</td>\n",
       "      <td>3600.0</td>\n",
       "      <td>511.48</td>\n",
       "      <td>514.3</td>\n",
       "      <td>533.7</td>\n",
       "      <td>0.0</td>\n",
       "      <td>0.0</td>\n",
       "      <td>18.0</td>\n",
       "      <td>0.0</td>\n",
       "      <td>0.293704</td>\n",
       "      <td>True</td>\n",
       "      <td>REGULAR</td>\n",
       "      <td>USD</td>\n",
       "    </tr>\n",
       "    <tr>\n",
       "      <th>29</th>\n",
       "      <td>SPX230616C03650000</td>\n",
       "      <td>2022-06-15 19:05:25+00:00</td>\n",
       "      <td>3650.0</td>\n",
       "      <td>479.73</td>\n",
       "      <td>482.6</td>\n",
       "      <td>501.5</td>\n",
       "      <td>0.0</td>\n",
       "      <td>0.0</td>\n",
       "      <td>18.0</td>\n",
       "      <td>0.0</td>\n",
       "      <td>0.288827</td>\n",
       "      <td>True</td>\n",
       "      <td>REGULAR</td>\n",
       "      <td>USD</td>\n",
       "    </tr>\n",
       "    <tr>\n",
       "      <th>31</th>\n",
       "      <td>SPX230616C03725000</td>\n",
       "      <td>2022-06-15 18:38:45+00:00</td>\n",
       "      <td>3725.0</td>\n",
       "      <td>419.30</td>\n",
       "      <td>436.8</td>\n",
       "      <td>454.9</td>\n",
       "      <td>0.0</td>\n",
       "      <td>0.0</td>\n",
       "      <td>5.0</td>\n",
       "      <td>0.0</td>\n",
       "      <td>0.281692</td>\n",
       "      <td>True</td>\n",
       "      <td>REGULAR</td>\n",
       "      <td>USD</td>\n",
       "    </tr>\n",
       "    <tr>\n",
       "      <th>32</th>\n",
       "      <td>SPX230616C03750000</td>\n",
       "      <td>2022-06-15 18:59:11+00:00</td>\n",
       "      <td>3750.0</td>\n",
       "      <td>417.94</td>\n",
       "      <td>421.9</td>\n",
       "      <td>439.7</td>\n",
       "      <td>0.0</td>\n",
       "      <td>0.0</td>\n",
       "      <td>53.0</td>\n",
       "      <td>0.0</td>\n",
       "      <td>0.279270</td>\n",
       "      <td>True</td>\n",
       "      <td>REGULAR</td>\n",
       "      <td>USD</td>\n",
       "    </tr>\n",
       "    <tr>\n",
       "      <th>33</th>\n",
       "      <td>SPX230616C03775000</td>\n",
       "      <td>2022-06-15 19:25:07+00:00</td>\n",
       "      <td>3775.0</td>\n",
       "      <td>413.00</td>\n",
       "      <td>407.3</td>\n",
       "      <td>424.8</td>\n",
       "      <td>0.0</td>\n",
       "      <td>0.0</td>\n",
       "      <td>18.0</td>\n",
       "      <td>0.0</td>\n",
       "      <td>0.276910</td>\n",
       "      <td>True</td>\n",
       "      <td>REGULAR</td>\n",
       "      <td>USD</td>\n",
       "    </tr>\n",
       "    <tr>\n",
       "      <th>34</th>\n",
       "      <td>SPX230616C03800000</td>\n",
       "      <td>2022-06-15 17:31:47+00:00</td>\n",
       "      <td>3800.0</td>\n",
       "      <td>383.36</td>\n",
       "      <td>397.7</td>\n",
       "      <td>403.6</td>\n",
       "      <td>0.0</td>\n",
       "      <td>0.0</td>\n",
       "      <td>328.0</td>\n",
       "      <td>0.0</td>\n",
       "      <td>0.270217</td>\n",
       "      <td>False</td>\n",
       "      <td>REGULAR</td>\n",
       "      <td>USD</td>\n",
       "    </tr>\n",
       "    <tr>\n",
       "      <th>36</th>\n",
       "      <td>SPX230616C03850000</td>\n",
       "      <td>2022-06-15 19:37:59+00:00</td>\n",
       "      <td>3850.0</td>\n",
       "      <td>382.00</td>\n",
       "      <td>369.4</td>\n",
       "      <td>375.3</td>\n",
       "      <td>0.0</td>\n",
       "      <td>0.0</td>\n",
       "      <td>1.0</td>\n",
       "      <td>0.0</td>\n",
       "      <td>0.265808</td>\n",
       "      <td>False</td>\n",
       "      <td>REGULAR</td>\n",
       "      <td>USD</td>\n",
       "    </tr>\n",
       "    <tr>\n",
       "      <th>39</th>\n",
       "      <td>SPX230616C03925000</td>\n",
       "      <td>2022-06-15 18:28:13+00:00</td>\n",
       "      <td>3925.0</td>\n",
       "      <td>309.30</td>\n",
       "      <td>327.8</td>\n",
       "      <td>334.9</td>\n",
       "      <td>0.0</td>\n",
       "      <td>0.0</td>\n",
       "      <td>8.0</td>\n",
       "      <td>0.0</td>\n",
       "      <td>0.259424</td>\n",
       "      <td>False</td>\n",
       "      <td>REGULAR</td>\n",
       "      <td>USD</td>\n",
       "    </tr>\n",
       "    <tr>\n",
       "      <th>40</th>\n",
       "      <td>SPX230616C03950000</td>\n",
       "      <td>2022-06-15 18:59:11+00:00</td>\n",
       "      <td>3950.0</td>\n",
       "      <td>304.90</td>\n",
       "      <td>315.6</td>\n",
       "      <td>321.1</td>\n",
       "      <td>0.0</td>\n",
       "      <td>0.0</td>\n",
       "      <td>48.0</td>\n",
       "      <td>0.0</td>\n",
       "      <td>0.256765</td>\n",
       "      <td>False</td>\n",
       "      <td>REGULAR</td>\n",
       "      <td>USD</td>\n",
       "    </tr>\n",
       "    <tr>\n",
       "      <th>41</th>\n",
       "      <td>SPX230616C03975000</td>\n",
       "      <td>2022-06-15 15:46:00+00:00</td>\n",
       "      <td>3975.0</td>\n",
       "      <td>290.19</td>\n",
       "      <td>301.8</td>\n",
       "      <td>308.8</td>\n",
       "      <td>0.0</td>\n",
       "      <td>0.0</td>\n",
       "      <td>88.0</td>\n",
       "      <td>0.0</td>\n",
       "      <td>0.254938</td>\n",
       "      <td>False</td>\n",
       "      <td>REGULAR</td>\n",
       "      <td>USD</td>\n",
       "    </tr>\n",
       "    <tr>\n",
       "      <th>42</th>\n",
       "      <td>SPX230616C04000000</td>\n",
       "      <td>2022-06-15 15:14:20+00:00</td>\n",
       "      <td>4000.0</td>\n",
       "      <td>277.27</td>\n",
       "      <td>290.1</td>\n",
       "      <td>295.5</td>\n",
       "      <td>0.0</td>\n",
       "      <td>0.0</td>\n",
       "      <td>1930.0</td>\n",
       "      <td>0.0</td>\n",
       "      <td>0.252289</td>\n",
       "      <td>False</td>\n",
       "      <td>REGULAR</td>\n",
       "      <td>USD</td>\n",
       "    </tr>\n",
       "    <tr>\n",
       "      <th>46</th>\n",
       "      <td>SPX230616C04100000</td>\n",
       "      <td>2022-06-15 19:56:01+00:00</td>\n",
       "      <td>4100.0</td>\n",
       "      <td>240.40</td>\n",
       "      <td>242.3</td>\n",
       "      <td>247.5</td>\n",
       "      <td>0.0</td>\n",
       "      <td>0.0</td>\n",
       "      <td>1.0</td>\n",
       "      <td>0.0</td>\n",
       "      <td>0.243465</td>\n",
       "      <td>False</td>\n",
       "      <td>REGULAR</td>\n",
       "      <td>USD</td>\n",
       "    </tr>\n",
       "    <tr>\n",
       "      <th>50</th>\n",
       "      <td>SPX230616C04200000</td>\n",
       "      <td>2022-06-15 20:06:14+00:00</td>\n",
       "      <td>4200.0</td>\n",
       "      <td>194.50</td>\n",
       "      <td>198.9</td>\n",
       "      <td>203.8</td>\n",
       "      <td>0.0</td>\n",
       "      <td>0.0</td>\n",
       "      <td>129.0</td>\n",
       "      <td>0.0</td>\n",
       "      <td>0.234724</td>\n",
       "      <td>False</td>\n",
       "      <td>REGULAR</td>\n",
       "      <td>USD</td>\n",
       "    </tr>\n",
       "    <tr>\n",
       "      <th>54</th>\n",
       "      <td>SPX230616C04300000</td>\n",
       "      <td>2022-06-15 18:46:56+00:00</td>\n",
       "      <td>4300.0</td>\n",
       "      <td>166.00</td>\n",
       "      <td>160.2</td>\n",
       "      <td>164.9</td>\n",
       "      <td>0.0</td>\n",
       "      <td>0.0</td>\n",
       "      <td>2.0</td>\n",
       "      <td>0.0</td>\n",
       "      <td>0.226305</td>\n",
       "      <td>False</td>\n",
       "      <td>REGULAR</td>\n",
       "      <td>USD</td>\n",
       "    </tr>\n",
       "    <tr>\n",
       "      <th>58</th>\n",
       "      <td>SPX230616C04400000</td>\n",
       "      <td>2022-06-15 13:52:44+00:00</td>\n",
       "      <td>4400.0</td>\n",
       "      <td>124.48</td>\n",
       "      <td>127.2</td>\n",
       "      <td>131.6</td>\n",
       "      <td>0.0</td>\n",
       "      <td>0.0</td>\n",
       "      <td>18.0</td>\n",
       "      <td>0.0</td>\n",
       "      <td>0.218786</td>\n",
       "      <td>False</td>\n",
       "      <td>REGULAR</td>\n",
       "      <td>USD</td>\n",
       "    </tr>\n",
       "    <tr>\n",
       "      <th>59</th>\n",
       "      <td>SPX230616C04425000</td>\n",
       "      <td>2022-06-15 13:52:44+00:00</td>\n",
       "      <td>4425.0</td>\n",
       "      <td>117.16</td>\n",
       "      <td>118.9</td>\n",
       "      <td>124.7</td>\n",
       "      <td>0.0</td>\n",
       "      <td>0.0</td>\n",
       "      <td>18.0</td>\n",
       "      <td>0.0</td>\n",
       "      <td>0.217499</td>\n",
       "      <td>False</td>\n",
       "      <td>REGULAR</td>\n",
       "      <td>USD</td>\n",
       "    </tr>\n",
       "    <tr>\n",
       "      <th>60</th>\n",
       "      <td>SPX230616C04450000</td>\n",
       "      <td>2022-06-15 20:05:59+00:00</td>\n",
       "      <td>4450.0</td>\n",
       "      <td>109.30</td>\n",
       "      <td>111.9</td>\n",
       "      <td>116.2</td>\n",
       "      <td>0.0</td>\n",
       "      <td>0.0</td>\n",
       "      <td>928.0</td>\n",
       "      <td>0.0</td>\n",
       "      <td>0.214726</td>\n",
       "      <td>False</td>\n",
       "      <td>REGULAR</td>\n",
       "      <td>USD</td>\n",
       "    </tr>\n",
       "    <tr>\n",
       "      <th>62</th>\n",
       "      <td>SPX230616C04500000</td>\n",
       "      <td>2022-06-15 18:32:49+00:00</td>\n",
       "      <td>4500.0</td>\n",
       "      <td>85.00</td>\n",
       "      <td>98.4</td>\n",
       "      <td>102.6</td>\n",
       "      <td>0.0</td>\n",
       "      <td>0.0</td>\n",
       "      <td>129.0</td>\n",
       "      <td>0.0</td>\n",
       "      <td>0.211251</td>\n",
       "      <td>False</td>\n",
       "      <td>REGULAR</td>\n",
       "      <td>USD</td>\n",
       "    </tr>\n",
       "    <tr>\n",
       "      <th>64</th>\n",
       "      <td>SPX230616C04550000</td>\n",
       "      <td>2022-06-15 20:04:14+00:00</td>\n",
       "      <td>4550.0</td>\n",
       "      <td>85.60</td>\n",
       "      <td>86.3</td>\n",
       "      <td>90.3</td>\n",
       "      <td>0.0</td>\n",
       "      <td>0.0</td>\n",
       "      <td>177.0</td>\n",
       "      <td>0.0</td>\n",
       "      <td>0.208010</td>\n",
       "      <td>False</td>\n",
       "      <td>REGULAR</td>\n",
       "      <td>USD</td>\n",
       "    </tr>\n",
       "    <tr>\n",
       "      <th>67</th>\n",
       "      <td>SPX230616C04625000</td>\n",
       "      <td>2022-06-15 14:14:39+00:00</td>\n",
       "      <td>4625.0</td>\n",
       "      <td>71.00</td>\n",
       "      <td>70.4</td>\n",
       "      <td>75.2</td>\n",
       "      <td>0.0</td>\n",
       "      <td>0.0</td>\n",
       "      <td>1.0</td>\n",
       "      <td>0.0</td>\n",
       "      <td>0.204604</td>\n",
       "      <td>False</td>\n",
       "      <td>REGULAR</td>\n",
       "      <td>USD</td>\n",
       "    </tr>\n",
       "    <tr>\n",
       "      <th>73</th>\n",
       "      <td>SPX230616C04775000</td>\n",
       "      <td>2022-06-15 16:47:01+00:00</td>\n",
       "      <td>4775.0</td>\n",
       "      <td>42.90</td>\n",
       "      <td>46.4</td>\n",
       "      <td>50.3</td>\n",
       "      <td>0.0</td>\n",
       "      <td>0.0</td>\n",
       "      <td>16.0</td>\n",
       "      <td>0.0</td>\n",
       "      <td>0.197558</td>\n",
       "      <td>False</td>\n",
       "      <td>REGULAR</td>\n",
       "      <td>USD</td>\n",
       "    </tr>\n",
       "    <tr>\n",
       "      <th>74</th>\n",
       "      <td>SPX230616C04800000</td>\n",
       "      <td>2022-06-15 16:44:21+00:00</td>\n",
       "      <td>4800.0</td>\n",
       "      <td>40.30</td>\n",
       "      <td>43.7</td>\n",
       "      <td>46.6</td>\n",
       "      <td>0.0</td>\n",
       "      <td>0.0</td>\n",
       "      <td>10.0</td>\n",
       "      <td>0.0</td>\n",
       "      <td>0.196118</td>\n",
       "      <td>False</td>\n",
       "      <td>REGULAR</td>\n",
       "      <td>USD</td>\n",
       "    </tr>\n",
       "    <tr>\n",
       "      <th>75</th>\n",
       "      <td>SPX230616C04825000</td>\n",
       "      <td>2022-06-15 15:55:20+00:00</td>\n",
       "      <td>4825.0</td>\n",
       "      <td>38.77</td>\n",
       "      <td>40.4</td>\n",
       "      <td>44.0</td>\n",
       "      <td>0.0</td>\n",
       "      <td>0.0</td>\n",
       "      <td>1.0</td>\n",
       "      <td>0.0</td>\n",
       "      <td>0.195818</td>\n",
       "      <td>False</td>\n",
       "      <td>REGULAR</td>\n",
       "      <td>USD</td>\n",
       "    </tr>\n",
       "    <tr>\n",
       "      <th>76</th>\n",
       "      <td>SPX230616C04850000</td>\n",
       "      <td>2022-06-15 19:57:03+00:00</td>\n",
       "      <td>4850.0</td>\n",
       "      <td>38.55</td>\n",
       "      <td>38.1</td>\n",
       "      <td>40.7</td>\n",
       "      <td>0.0</td>\n",
       "      <td>0.0</td>\n",
       "      <td>10.0</td>\n",
       "      <td>0.0</td>\n",
       "      <td>0.194447</td>\n",
       "      <td>False</td>\n",
       "      <td>REGULAR</td>\n",
       "      <td>USD</td>\n",
       "    </tr>\n",
       "    <tr>\n",
       "      <th>82</th>\n",
       "      <td>SPX230616C05000000</td>\n",
       "      <td>2022-06-15 19:57:03+00:00</td>\n",
       "      <td>5000.0</td>\n",
       "      <td>25.80</td>\n",
       "      <td>25.2</td>\n",
       "      <td>27.4</td>\n",
       "      <td>0.0</td>\n",
       "      <td>0.0</td>\n",
       "      <td>10.0</td>\n",
       "      <td>0.0</td>\n",
       "      <td>0.191094</td>\n",
       "      <td>False</td>\n",
       "      <td>REGULAR</td>\n",
       "      <td>USD</td>\n",
       "    </tr>\n",
       "    <tr>\n",
       "      <th>91</th>\n",
       "      <td>SPX230616C05300000</td>\n",
       "      <td>2022-06-15 14:10:07+00:00</td>\n",
       "      <td>5300.0</td>\n",
       "      <td>12.30</td>\n",
       "      <td>11.8</td>\n",
       "      <td>13.4</td>\n",
       "      <td>0.0</td>\n",
       "      <td>0.0</td>\n",
       "      <td>10.0</td>\n",
       "      <td>0.0</td>\n",
       "      <td>0.190159</td>\n",
       "      <td>False</td>\n",
       "      <td>REGULAR</td>\n",
       "      <td>USD</td>\n",
       "    </tr>\n",
       "  </tbody>\n",
       "</table>\n",
       "</div>"
      ],
      "text/plain": [
       "        contractSymbol             lastTradeDate  strike  lastPrice    bid  \\\n",
       "27  SPX230616C03600000 2022-06-15 19:05:25+00:00  3600.0     511.48  514.3   \n",
       "29  SPX230616C03650000 2022-06-15 19:05:25+00:00  3650.0     479.73  482.6   \n",
       "31  SPX230616C03725000 2022-06-15 18:38:45+00:00  3725.0     419.30  436.8   \n",
       "32  SPX230616C03750000 2022-06-15 18:59:11+00:00  3750.0     417.94  421.9   \n",
       "33  SPX230616C03775000 2022-06-15 19:25:07+00:00  3775.0     413.00  407.3   \n",
       "34  SPX230616C03800000 2022-06-15 17:31:47+00:00  3800.0     383.36  397.7   \n",
       "36  SPX230616C03850000 2022-06-15 19:37:59+00:00  3850.0     382.00  369.4   \n",
       "39  SPX230616C03925000 2022-06-15 18:28:13+00:00  3925.0     309.30  327.8   \n",
       "40  SPX230616C03950000 2022-06-15 18:59:11+00:00  3950.0     304.90  315.6   \n",
       "41  SPX230616C03975000 2022-06-15 15:46:00+00:00  3975.0     290.19  301.8   \n",
       "42  SPX230616C04000000 2022-06-15 15:14:20+00:00  4000.0     277.27  290.1   \n",
       "46  SPX230616C04100000 2022-06-15 19:56:01+00:00  4100.0     240.40  242.3   \n",
       "50  SPX230616C04200000 2022-06-15 20:06:14+00:00  4200.0     194.50  198.9   \n",
       "54  SPX230616C04300000 2022-06-15 18:46:56+00:00  4300.0     166.00  160.2   \n",
       "58  SPX230616C04400000 2022-06-15 13:52:44+00:00  4400.0     124.48  127.2   \n",
       "59  SPX230616C04425000 2022-06-15 13:52:44+00:00  4425.0     117.16  118.9   \n",
       "60  SPX230616C04450000 2022-06-15 20:05:59+00:00  4450.0     109.30  111.9   \n",
       "62  SPX230616C04500000 2022-06-15 18:32:49+00:00  4500.0      85.00   98.4   \n",
       "64  SPX230616C04550000 2022-06-15 20:04:14+00:00  4550.0      85.60   86.3   \n",
       "67  SPX230616C04625000 2022-06-15 14:14:39+00:00  4625.0      71.00   70.4   \n",
       "73  SPX230616C04775000 2022-06-15 16:47:01+00:00  4775.0      42.90   46.4   \n",
       "74  SPX230616C04800000 2022-06-15 16:44:21+00:00  4800.0      40.30   43.7   \n",
       "75  SPX230616C04825000 2022-06-15 15:55:20+00:00  4825.0      38.77   40.4   \n",
       "76  SPX230616C04850000 2022-06-15 19:57:03+00:00  4850.0      38.55   38.1   \n",
       "82  SPX230616C05000000 2022-06-15 19:57:03+00:00  5000.0      25.80   25.2   \n",
       "91  SPX230616C05300000 2022-06-15 14:10:07+00:00  5300.0      12.30   11.8   \n",
       "\n",
       "      ask  change  percentChange  volume  openInterest  impliedVolatility  \\\n",
       "27  533.7     0.0            0.0    18.0           0.0           0.293704   \n",
       "29  501.5     0.0            0.0    18.0           0.0           0.288827   \n",
       "31  454.9     0.0            0.0     5.0           0.0           0.281692   \n",
       "32  439.7     0.0            0.0    53.0           0.0           0.279270   \n",
       "33  424.8     0.0            0.0    18.0           0.0           0.276910   \n",
       "34  403.6     0.0            0.0   328.0           0.0           0.270217   \n",
       "36  375.3     0.0            0.0     1.0           0.0           0.265808   \n",
       "39  334.9     0.0            0.0     8.0           0.0           0.259424   \n",
       "40  321.1     0.0            0.0    48.0           0.0           0.256765   \n",
       "41  308.8     0.0            0.0    88.0           0.0           0.254938   \n",
       "42  295.5     0.0            0.0  1930.0           0.0           0.252289   \n",
       "46  247.5     0.0            0.0     1.0           0.0           0.243465   \n",
       "50  203.8     0.0            0.0   129.0           0.0           0.234724   \n",
       "54  164.9     0.0            0.0     2.0           0.0           0.226305   \n",
       "58  131.6     0.0            0.0    18.0           0.0           0.218786   \n",
       "59  124.7     0.0            0.0    18.0           0.0           0.217499   \n",
       "60  116.2     0.0            0.0   928.0           0.0           0.214726   \n",
       "62  102.6     0.0            0.0   129.0           0.0           0.211251   \n",
       "64   90.3     0.0            0.0   177.0           0.0           0.208010   \n",
       "67   75.2     0.0            0.0     1.0           0.0           0.204604   \n",
       "73   50.3     0.0            0.0    16.0           0.0           0.197558   \n",
       "74   46.6     0.0            0.0    10.0           0.0           0.196118   \n",
       "75   44.0     0.0            0.0     1.0           0.0           0.195818   \n",
       "76   40.7     0.0            0.0    10.0           0.0           0.194447   \n",
       "82   27.4     0.0            0.0    10.0           0.0           0.191094   \n",
       "91   13.4     0.0            0.0    10.0           0.0           0.190159   \n",
       "\n",
       "    inTheMoney contractSize currency  \n",
       "27        True      REGULAR      USD  \n",
       "29        True      REGULAR      USD  \n",
       "31        True      REGULAR      USD  \n",
       "32        True      REGULAR      USD  \n",
       "33        True      REGULAR      USD  \n",
       "34       False      REGULAR      USD  \n",
       "36       False      REGULAR      USD  \n",
       "39       False      REGULAR      USD  \n",
       "40       False      REGULAR      USD  \n",
       "41       False      REGULAR      USD  \n",
       "42       False      REGULAR      USD  \n",
       "46       False      REGULAR      USD  \n",
       "50       False      REGULAR      USD  \n",
       "54       False      REGULAR      USD  \n",
       "58       False      REGULAR      USD  \n",
       "59       False      REGULAR      USD  \n",
       "60       False      REGULAR      USD  \n",
       "62       False      REGULAR      USD  \n",
       "64       False      REGULAR      USD  \n",
       "67       False      REGULAR      USD  \n",
       "73       False      REGULAR      USD  \n",
       "74       False      REGULAR      USD  \n",
       "75       False      REGULAR      USD  \n",
       "76       False      REGULAR      USD  \n",
       "82       False      REGULAR      USD  \n",
       "91       False      REGULAR      USD  "
      ]
     },
     "execution_count": 101,
     "metadata": {},
     "output_type": "execute_result"
    }
   ],
   "source": [
    "Ks = spx_option_data['strike'].to_numpy()\n",
    "real_bids = spx_option_data['bid'].to_numpy()\n",
    "real_asks = spx_option_data['ask'].to_numpy()\n",
    "\n",
    "spx_option_data"
   ]
  },
  {
   "cell_type": "code",
   "execution_count": 83,
   "metadata": {},
   "outputs": [
    {
     "name": "stdout",
     "output_type": "stream",
     "text": [
      "3789.989990234375\n"
     ]
    }
   ],
   "source": [
    "r = 0.04791\n",
    "S0 = spx.history()['Close'][0]\n",
    "print(S0)"
   ]
  },
  {
   "cell_type": "code",
   "execution_count": 99,
   "metadata": {},
   "outputs": [
    {
     "data": {
      "text/plain": [
       "array([-0.05142953, -0.03763621, -0.01729653, -0.01060754, -0.003963  ,\n",
       "        0.00263769,  0.01570977,  0.03500297,  0.0413522 ,  0.04766137,\n",
       "        0.05393098,  0.0786236 ,  0.10272115,  0.12625164,  0.14924116,\n",
       "        0.1549069 ,  0.16054072,  0.17171402,  0.18276385,  0.19911299,\n",
       "        0.2310306 ,  0.23625254,  0.24144736,  0.24661533,  0.27707453,\n",
       "        0.33534344])"
      ]
     },
     "execution_count": 99,
     "metadata": {},
     "output_type": "execute_result"
    }
   ],
   "source": [
    "log_Ks = np.log(Ks / S0)\n",
    "log_Ks"
   ]
  },
  {
   "cell_type": "code",
   "execution_count": 117,
   "metadata": {},
   "outputs": [],
   "source": [
    "from pricing.price_engine import find_implied_vol_curve"
   ]
  },
  {
   "cell_type": "code",
   "execution_count": 124,
   "metadata": {},
   "outputs": [
    {
     "data": {
      "text/plain": [
       "[(0.21010837824423964, 0.22516368363495717),\n",
       " (0.2088855911754256, 0.22308021751054713),\n",
       " (0.20684478271287038, 0.2198783149504639),\n",
       " (0.20603460467381393, 0.21869740521015787),\n",
       " (0.20524242635134468, 0.21755266585598748),\n",
       " (0.20774040188611567, 0.2118484631681048),\n",
       " (0.20575527062740598, 0.20979038311571577),\n",
       " (0.20195602744065524, 0.2067164576857805),\n",
       " (0.20143119974893042, 0.20510155113170034),\n",
       " (0.19964899263341324, 0.2043029127152156),\n",
       " (0.1990728823002993, 0.2026532169735709),\n",
       " (0.19417490104487115, 0.19762004442028927),\n",
       " (0.18905120022764388, 0.19235230919715807),\n",
       " (0.18383534568189286, 0.18711742236610296),\n",
       " (0.1792367745097508, 0.18248648070146078),\n",
       " (0.17749309405576383, 0.18185238397088677),\n",
       " (0.1765025453168202, 0.17979854401963763),\n",
       " (0.17425054239913423, 0.17760823068706771),\n",
       " (0.17223256257105948, 0.17558567553444046),\n",
       " (0.1694555819411781, 0.17381077791418456),\n",
       " (0.16542914378971507, 0.16972063424260544),\n",
       " (0.16544905570234889, 0.16875535125650787),\n",
       " (0.16458116803946984, 0.16883641919696665),\n",
       " (0.1647245948379013, 0.16791423356300203),\n",
       " (0.16329462628362734, 0.16671021905860386),\n",
       " (0.1647908459992349, 0.16884903182430425)]"
      ]
     },
     "execution_count": 124,
     "metadata": {},
     "output_type": "execute_result"
    }
   ],
   "source": [
    "real_bids_implied_vol = find_implied_vol_curve(S0,T,r, Ks, real_bids)\n",
    "real_asks_implied_vol = find_implied_vol_curve(S0,T,r, Ks, real_asks)\n",
    "\n",
    "list(zip(real_bids_implied_vol, real_asks_implied_vol))"
   ]
  },
  {
   "cell_type": "code",
   "execution_count": 125,
   "metadata": {},
   "outputs": [
    {
     "data": {
      "image/png": "[encoded data removed]",
      "text/plain": [
       "<Figure size 432x288 with 1 Axes>"
      ]
     },
     "metadata": {
      "needs_background": "light"
     },
     "output_type": "display_data"
    }
   ],
   "source": [
    "plt.scatter(log_Ks, real_bids_implied_vol, color='blue')\n",
    "plt.scatter(log_Ks, real_asks_implied_vol, color='red')\n",
    "plt.show()"
   ]
  },
  {
   "cell_type": "code",
   "execution_count": null,
   "metadata": {},
   "outputs": [],
   "source": []
  }
 ],
 "metadata": {
  "interpreter": {
   "hash": "3850688393a4ba5b2416f6517a76ae51fd95fdc1af9c4fef93be4a05dec08535"
  },
  "kernelspec": {
   "display_name": "Python 3.7.9 ('ic')",
   "language": "python",
   "name": "python3"
  },
  "language_info": {
   "codemirror_mode": {
    "name": "ipython",
    "version": 3
   },
   "file_extension": ".py",
   "mimetype": "text/x-python",
   "name": "python",
   "nbconvert_exporter": "python",
   "pygments_lexer": "ipython3",
   "version": "3.7.9"
  },
  "orig_nbformat": 4
 },
 "nbformat": 4,
 "nbformat_minor": 2
}
